{
 "cells": [
  {
   "cell_type": "code",
   "execution_count": 9,
   "metadata": {},
   "outputs": [],
   "source": [
    "import ROOT as root\n",
    "import numpy as np\n",
    "import matplotlib.pyplot as plt\n",
    "import pandas as pd\n",
    "import random"
   ]
  },
  {
   "cell_type": "code",
   "execution_count": 14,
   "metadata": {},
   "outputs": [
    {
     "name": "stdout",
     "output_type": "stream",
     "text": [
      "TFile**\t\tbatch/data/AnaBarMC_Gen_6029.root\tfROOTfile\n",
      " TFile*\t\tbatch/data/AnaBarMC_Gen_6029.root\tfROOTfile\n",
      "  KEY: TTree\th1;1\tGenerator Output Tree\n",
      "======> EVENT:50\n",
      " X_vtx           = 1.6413\n",
      " Y_vtx           = 5\n",
      " Z_vtx           = -1.97455\n",
      " Px_p            = -534.255\n",
      " Py_p            = -1986.09\n",
      " Pz_p            = 240.715\n",
      " En_p            = 2070.73\n",
      " Mass            = 0.510999\n",
      " PDG             = 11\n"
     ]
    }
   ],
   "source": [
    "f = root.TFile(\"batch/data/AnaBarMC_Gen_6029.root\")\n",
    "f.ls()\n",
    "\n",
    "myTree = f.Get(\"h1\")\n",
    "\n",
    "entries = myTree.GetEntriesFast()\n",
    "\n",
    "myTree.Show(50)"
   ]
  },
  {
   "cell_type": "code",
   "execution_count": 11,
   "metadata": {},
   "outputs": [
    {
     "name": "stdout",
     "output_type": "stream",
     "text": [
      "TFile**\t\tbatch/data/AnaBarMC_Gen_6030.root\tfROOTfile\n",
      " TFile*\t\tbatch/data/AnaBarMC_Gen_6030.root\tfROOTfile\n",
      "  KEY: TTree\th1;1\tGenerator Output Tree\n",
      "======> EVENT:50\n",
      " X_vtx           = 4.34884\n",
      " Y_vtx           = 5\n",
      " Z_vtx           = -6.56109\n",
      " Px_p            = -1258.28\n",
      " Py_p            = -4677.67\n",
      " Pz_p            = 566.935\n",
      " En_p            = 4877.01\n",
      " Mass            = 0.510999\n",
      " PDG             = 11\n"
     ]
    }
   ],
   "source": [
    "f = root.TFile(\"batch/data/AnaBarMC_Gen_6030.root\")\n",
    "f.ls()\n",
    "\n",
    "myTree = f.Get(\"h1\")\n",
    "\n",
    "entries = myTree.GetEntriesFast()\n",
    "\n",
    "myTree.Show(50)"
   ]
  },
  {
   "cell_type": "code",
   "execution_count": 3,
   "metadata": {},
   "outputs": [
    {
     "name": "stdout",
     "output_type": "stream",
     "text": [
      "TFile**\t\tbatch/data/AnaBarMC_Gen_7001.root\tfROOTfile\n",
      " TFile*\t\tbatch/data/AnaBarMC_Gen_7001.root\tfROOTfile\n",
      "  KEY: TTree\th1;1\tGenerator Output Tree\n",
      "======> EVENT:50\n",
      " X_vtx           = -3.58584\n",
      " Y_vtx           = 5\n",
      " Z_vtx           = -6.49094\n",
      " Px_p            = -268.008\n",
      " Py_p            = -996.321\n",
      " Pz_p            = 120.754\n",
      " En_p            = 1044.14\n",
      " Mass            = 105.658\n",
      " PDG             = 13\n"
     ]
    }
   ],
   "source": [
    "f = root.TFile(\"batch/data/AnaBarMC_Gen_7001.root\")\n",
    "f.ls()\n",
    "\n",
    "myTree = f.Get(\"h1\")\n",
    "\n",
    "entries = myTree.GetEntriesFast()\n",
    "\n",
    "myTree.Show(50)\n",
    "    \n",
    "    "
   ]
  },
  {
   "cell_type": "code",
   "execution_count": 4,
   "metadata": {},
   "outputs": [
    {
     "name": "stdout",
     "output_type": "stream",
     "text": [
      "TFile**\t\tbatch/data/AnaBarMC_Gen_8001.root\tfROOTfile\n",
      " TFile*\t\tbatch/data/AnaBarMC_Gen_8001.root\tfROOTfile\n",
      "  KEY: TTree\th1;1\tGenerator Output Tree\n",
      "======> EVENT:50\n",
      " X_vtx           = -2.63671\n",
      " Y_vtx           = 5\n",
      " Z_vtx           = -1.29456\n",
      " Px_p            = -1265.92\n",
      " Py_p            = -4706.05\n",
      " Pz_p            = 570.375\n",
      " En_p            = 4995.76\n",
      " Mass            = 939.565\n",
      " PDG             = 2112\n"
     ]
    }
   ],
   "source": [
    "f = root.TFile(\"batch/data/AnaBarMC_Gen_8001.root\")\n",
    "f.ls()\n",
    "\n",
    "myTree = f.Get(\"h1\")\n",
    "\n",
    "entries = myTree.GetEntriesFast()\n",
    "\n",
    "myTree.Show(50)"
   ]
  },
  {
   "cell_type": "code",
   "execution_count": 5,
   "metadata": {},
   "outputs": [
    {
     "name": "stdout",
     "output_type": "stream",
     "text": [
      "TFile**\t\tbatch/data/AnaBarMC_Gen_9001.root\tfROOTfile\n",
      " TFile*\t\tbatch/data/AnaBarMC_Gen_9001.root\tfROOTfile\n",
      "  KEY: TTree\th1;1\tGenerator Output Tree\n",
      "======> EVENT:50\n",
      " X_vtx           = 3.74344\n",
      " Y_vtx           = 5\n",
      " Z_vtx           = -2.20249\n",
      " Px_p            = -799.757\n",
      " Py_p            = -2973.1\n",
      " Pz_p            = 360.341\n",
      " En_p            = 3238.69\n",
      " Mass            = 938.272\n",
      " PDG             = 2212\n"
     ]
    }
   ],
   "source": [
    "f = root.TFile(\"batch/data/AnaBarMC_Gen_9001.root\")\n",
    "f.ls()\n",
    "\n",
    "myTree = f.Get(\"h1\")\n",
    "\n",
    "entries = myTree.GetEntriesFast()\n",
    "\n",
    "myTree.Show(50)"
   ]
  },
  {
   "cell_type": "code",
   "execution_count": null,
   "metadata": {},
   "outputs": [],
   "source": []
  }
 ],
 "metadata": {
  "kernelspec": {
   "display_name": "Python 3",
   "language": "python",
   "name": "python3"
  },
  "language_info": {
   "codemirror_mode": {
    "name": "ipython",
    "version": 3
   },
   "file_extension": ".py",
   "mimetype": "text/x-python",
   "name": "python",
   "nbconvert_exporter": "python",
   "pygments_lexer": "ipython3",
   "version": "3.6.8"
  }
 },
 "nbformat": 4,
 "nbformat_minor": 4
}
