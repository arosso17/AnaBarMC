{
 "cells": [
  {
   "cell_type": "code",
   "execution_count": 1,
   "metadata": {},
   "outputs": [
    {
     "name": "stdout",
     "output_type": "stream",
     "text": [
      "Welcome to JupyROOT 6.24/06\n"
     ]
    }
   ],
   "source": [
    "import ROOT as root\n",
    "import numpy as np\n",
    "import random"
   ]
  },
  {
   "cell_type": "code",
   "execution_count": 2,
   "metadata": {},
   "outputs": [],
   "source": [
    "Analyse_Secondaries = 1\n",
    "Theta_min_cut = 2.524\n",
    "ThetaVerticalCut = 3.02\n",
    "\n",
    "MaxHits = 50000\n",
    "MaxPMTNo = 20\n",
    "MaxPMTHits = 5000\n",
    "Finger_Edep_Max = 10.0\n",
    "AnaBar_Edep_Max = 10.0\n",
    "pedastel_sigma = 2.9\n",
    "Detector_Offset = 0\n",
    "\n",
    "Finger_NPhotons_Max = 250\n",
    "AnaBar_NPhotons_Max = 200\n",
    "\n",
    "NUMPADDLE = 14\n",
    "\n",
    "NMaxPMT = 14\n",
    "\n",
    "Detector_pdg = np.array([0 for i in range(MaxHits)],dtype=int)\n",
    "Detector_id = np.array([0 for i in range(MaxHits)],dtype=int)\n",
    "\n",
    "Detector_x = np.array([0 for i in range(MaxHits)],dtype=float)\n",
    "Detector_y = np.array([0 for i in range(MaxHits)],dtype=float)\n",
    "Detector_z = np.array([0 for i in range(MaxHits)],dtype=float)\n",
    "Detector_t = np.array([0 for i in range(MaxHits)],dtype=float)\n",
    "Detector_Ed = np.array([0 for i in range(MaxHits)],dtype=float)\n",
    "\n",
    "PMT_Nphotons = np.array([0 for i in range(MaxPMTNo)],dtype=int)\n",
    "PMT_Nphotons_Noise = np.array([0 for i in range(MaxPMTNo)],dtype=int)\n",
    "\n",
    "PMT_KineticEnergy = np.array([[0 for i in range(MaxPMTNo)] for j in range(MaxPMTHits)],dtype=float)"
   ]
  },
  {
   "cell_type": "code",
   "execution_count": null,
   "metadata": {},
   "outputs": [],
   "source": [
    "f = root.TFile(\"data/AnaBarMC_777777.root\")\n",
    "f.ls()\n",
    "\n",
    "myTree = f.Get(\"T\")\n",
    "myTree.Show(0)\n",
    "\n",
    "myTree.Print()\n",
    "\n",
    "entries = myTree.GetEntriesFast()\n",
    "\n",
    "hPrimE = root.TH1F(\"PrimE\",\"Primary Energy\", 100, 0, 25000)\n",
    "hPrimTh = root.TH1F(\"PrimTh\",\"Primary Theta\", 100, 0, np.pi)\n",
    "hPrimPh = root.TH1F(\"PrimPh\",\"Primary Phi\", 100, 0, 2.0*np.pi)\n",
    "hPrimPdg = root.TH1F(\"PrimPdg\",\"Primary PDG ID\", 30, 0, 30)\n",
    "\n"
   ]
  },
  {
   "cell_type": "code",
   "execution_count": null,
   "metadata": {},
   "outputs": [],
   "source": [
    "for i in range(entries):\n",
    "    \n",
    "    if (i%1 == 0):\n",
    "        print(\"Event Number: %d\" % i)\n",
    "    \n",
    "    anabar_hit_paddle = np.array([False for i in range(NMaxPMT)],dtype=bool)\n",
    "    edeptot = np.array([0.0 for i in range(NMaxPMT)],dtype=float)\n",
    "    edep0tot = 0.0\n",
    "    \n",
    "    myTree.GetEntry(i)\n",
    "    \n",
    "    trigger = False\n",
    "    finger_hit = False\n",
    "    anabar_hit = False\n",
    "    anabar_top_hit = False\n",
    "    anabar_bottom_hit = False\n",
    "    j_finger = 0\n",
    "    j_anabar = 0\n",
    "    \n",
    "    if (myTree.Prim_pdg == 11):\n",
    "        fMass = 0.511\n",
    "    else:\n",
    "        if (myTree.Prim_pdg == 13):\n",
    "            fMass = 105.7\n",
    "        else:\n",
    "            if (myTree.Prim_pdg == 2212):\n",
    "                fMass = 938.28\n",
    "            else:\n",
    "                fMass = 939.5\n",
    "    \n",
    "    trigger2 = False\n",
    "    trigger3 = False\n",
    "    \n",
    "    fMomentum = np.sqrt(myTree.Prim_E**2 - fMass**2)\n",
    "    fPx = fMomentum*np.sin(myTree.Prim_Th)*np.cos(myTree.Prim_Ph)\n",
    "    fPy = fMomentum*np.sin(myTree.Prim_Th)*np.sin(myTree.Prim_Ph)\n",
    "    fPz = fMomentum*np.cos(myTree.Prim_Th)\n",
    "    fNewTheta = np.arccos(fPy/fMomentum)\n",
    "    if (fPx<0):\n",
    "        fNewPhi = np.arctan(fPz/fPx)+np.pi\n",
    "    else:\n",
    "        if (fPx>0 and fPz<0):\n",
    "            fNewPhi = np.arctan(fPz/fPx)+2.0*np.pi\n",
    "        else:\n",
    "            fNewPhi=np.arctan(fPz/fPx)\n",
    "    \n",
    "    for j in range(myTree.Detector_Nhits):\n",
    "        if(myTree.Detector_id[j] == Detector_Offset and not finger_hit):\n",
    "            finger_hit = True\n",
    "            j_finger = j\n",
    "            \n",
    "        for ibar in range(1,15):\n",
    "            if(myTree.Detector_id[j+Detector_Offset] == (ibar+Detector_Offset)):\n",
    "                anabar_hit = True\n",
    "                anabar_hit_paddle[ibar-1]=True\n",
    "                j_anabar = j\n",
    "            \n",
    "    if (finger_hit and anabar_hit):\n",
    "        trigger = True\n",
    "        \n",
    "    if trigger:\n",
    "        hPrimE.Fill(myTree.Prim_E)\n",
    "        hPrimTh.Fill(fNewTheta)\n",
    "        hPrimPh.Fill(fNewPhi)\n",
    "        hPrimPdg.Fill(myTree.Prim_pdg)"
   ]
  },
  {
   "cell_type": "code",
   "execution_count": null,
   "metadata": {},
   "outputs": [],
   "source": [
    "c2 = root.TCanvas(\"c1\",\"c1\",800,800)\n",
    "c2.Divide(2,2,0.01,0.01,0)\n",
    "\n",
    "c2.cd(1)\n",
    "hPrimE.Draw()\n",
    "c2.cd(2)\n",
    "hPrimTh.Draw()\n",
    "c2.cd(3)\n",
    "hPrimPh.Draw()\n",
    "c2.cd(4)\n",
    "hPrimPdg.Draw()"
   ]
  },
  {
   "cell_type": "code",
   "execution_count": null,
   "metadata": {},
   "outputs": [],
   "source": [
    "c2.Draw()\n",
    "c2.Print(\"plots/c2R.pdf\")"
   ]
  }
 ],
 "metadata": {
  "kernelspec": {
   "display_name": "Python 3",
   "language": "python",
   "name": "python3"
  },
  "language_info": {
   "codemirror_mode": {
    "name": "ipython",
    "version": 3
   },
   "file_extension": ".py",
   "mimetype": "text/x-python",
   "name": "python",
   "nbconvert_exporter": "python",
   "pygments_lexer": "ipython3",
   "version": "3.6.8"
  }
 },
 "nbformat": 4,
 "nbformat_minor": 4
}
