{
 "cells": [
  {
   "cell_type": "code",
   "execution_count": 14,
   "metadata": {
    "tags": []
   },
   "outputs": [],
   "source": [
    "import ROOT as root\n",
    "import numpy as np\n",
    "import random\n",
    "from timer import Timer\n",
    "\n",
    "t = Timer()\n",
    "t.start()"
   ]
  },
  {
   "cell_type": "code",
   "execution_count": 15,
   "metadata": {
    "tags": []
   },
   "outputs": [
    {
     "name": "stdout",
     "output_type": "stream",
     "text": [
      "******************************************************************************\n",
      "*Tree    :T         : Output Tree                                            *\n",
      "*Entries :      922 : Total =       190809679 bytes  File  Size =    4845364 *\n",
      "*        :          : Tree compression factor =  39.45                       *\n",
      "******************************************************************************\n",
      "*Br    0 :Prim_E    : Prim_E/F                                               *\n",
      "*Entries :      922 : Total  Size=       4247 bytes  File Size  =       2421 *\n",
      "*Baskets :        1 : Basket Size=      32000 bytes  Compression=   1.55     *\n",
      "*............................................................................*\n",
      "*Br    1 :Prim_Th   : Prim_Th/F                                              *\n",
      "*Entries :      922 : Total  Size=       4252 bytes  File Size  =       2357 *\n",
      "*Baskets :        1 : Basket Size=      32000 bytes  Compression=   1.59     *\n",
      "*............................................................................*\n",
      "*Br    2 :Prim_Ph   : Prim_Ph/F                                              *\n",
      "*Entries :      922 : Total  Size=       4252 bytes  File Size  =       2313 *\n",
      "*Baskets :        1 : Basket Size=      32000 bytes  Compression=   1.63     *\n",
      "*............................................................................*\n",
      "*Br    3 :Prim_pdg  : Prim_pdg/I                                             *\n",
      "*Entries :      922 : Total  Size=       4257 bytes  File Size  =        232 *\n",
      "*Baskets :        1 : Basket Size=      32000 bytes  Compression=  16.21     *\n",
      "*............................................................................*\n",
      "*Br    4 :PMT_id    : PMT_id/I                                               *\n",
      "*Entries :      922 : Total  Size=       4247 bytes  File Size  =       2243 *\n",
      "*Baskets :        1 : Basket Size=      32000 bytes  Compression=   1.68     *\n",
      "*............................................................................*\n",
      "*Br    5 :PMT_Nphotons : PMT_Nphotons[50000]/I                               *\n",
      "*Entries :      922 : Total  Size=  184488859 bytes  File Size  =    1022942 *\n",
      "*Baskets :      922 : Basket Size=      32000 bytes  Compression= 180.33     *\n",
      "*............................................................................*\n",
      "*Br    6 :Detector_Nhits : Detector_Nhits/I                                  *\n",
      "*Entries :      922 : Total  Size=       4287 bytes  File Size  =       1895 *\n",
      "*Baskets :        1 : Basket Size=      32000 bytes  Compression=   1.99     *\n",
      "*............................................................................*\n",
      "*Br    7 :Detector_pdg : Detector_pdg[Detector_Nhits]/I                      *\n",
      "*Entries :      922 : Total  Size=     899401 bytes  File Size  =      24455 *\n",
      "*Baskets :       29 : Basket Size=      32000 bytes  Compression=  36.74     *\n",
      "*............................................................................*\n",
      "*Br    8 :Detector_id : Detector_id[Detector_Nhits]/I                        *\n",
      "*Entries :      922 : Total  Size=     899368 bytes  File Size  =      63308 *\n",
      "*Baskets :       29 : Basket Size=      32000 bytes  Compression=  14.19     *\n",
      "*............................................................................*\n",
      "*Br    9 :Detector_x : Detector_x[Detector_Nhits]/F                          *\n",
      "*Entries :      922 : Total  Size=     899342 bytes  File Size  =     741615 *\n",
      "*Baskets :       29 : Basket Size=      32000 bytes  Compression=   1.21     *\n",
      "*............................................................................*\n",
      "*Br   10 :Detector_y : Detector_y[Detector_Nhits]/F                          *\n",
      "*Entries :      922 : Total  Size=     899342 bytes  File Size  =     774697 *\n",
      "*Baskets :       29 : Basket Size=      32000 bytes  Compression=   1.16     *\n",
      "*............................................................................*\n",
      "*Br   11 :Detector_z : Detector_z[Detector_Nhits]/F                          *\n",
      "*Entries :      922 : Total  Size=     899342 bytes  File Size  =     687287 *\n",
      "*Baskets :       29 : Basket Size=      32000 bytes  Compression=   1.31     *\n",
      "*............................................................................*\n",
      "*Br   12 :Detector_t : Detector_t[Detector_Nhits]/F                          *\n",
      "*Entries :      922 : Total  Size=     899342 bytes  File Size  =     733831 *\n",
      "*Baskets :       29 : Basket Size=      32000 bytes  Compression=   1.22     *\n",
      "*............................................................................*\n",
      "*Br   13 :Detector_Ed : Detector_Ed[Detector_Nhits]/F                        *\n",
      "*Entries :      922 : Total  Size=     899375 bytes  File Size  =     775815 *\n",
      "*Baskets :       29 : Basket Size=      32000 bytes  Compression=   1.16     *\n",
      "*............................................................................*\n"
     ]
    },
    {
     "name": "stderr",
     "output_type": "stream",
     "text": [
      "Warning in <EnableImplicitMT>: Cannot enable implicit multi-threading with 0 threads, please build ROOT with -Dimt=ON\n"
     ]
    }
   ],
   "source": [
    "fileName = \"data/AnaBarMC_7001.root\"\n",
    "treeName = \"T\"\n",
    "\n",
    "f = root.TFile(fileName)\n",
    "myTree = f.Get(treeName)\n",
    "\n",
    "myTree.Print()\n",
    "\n",
    "root.EnableImplicitMT()\n",
    "d = root.RDataFrame(treeName,fileName)"
   ]
  },
  {
   "cell_type": "code",
   "execution_count": 32,
   "metadata": {
    "tags": []
   },
   "outputs": [
    {
     "data": {
      "text/plain": [
       "False"
      ]
     },
     "execution_count": 32,
     "metadata": {},
     "output_type": "execute_result"
    },
    {
     "name": "stderr",
     "output_type": "stream",
     "text": [
      "input_line_261:2:5: error: redefinition of 'Analyse_Secondaries'\n",
      "int Analyse_Secondaries = 1;\n",
      "    ^\n",
      "input_line_64:2:5: note: previous definition is here\n",
      "int Analyse_Secondaries = 1;\n",
      "    ^\n",
      "input_line_261:3:7: error: redefinition of 'Theta_min_cut'\n",
      "float Theta_min_cut = 2.524;\n",
      "      ^\n",
      "input_line_64:3:7: note: previous definition is here\n",
      "float Theta_min_cut = 2.524;\n",
      "      ^\n",
      "input_line_261:4:7: error: redefinition of 'ThetaVerticalCut'\n",
      "float ThetaVerticalCut = 3.02;\n",
      "      ^\n",
      "input_line_64:4:7: note: previous definition is here\n",
      "float ThetaVerticalCut = 3.02;\n",
      "      ^\n",
      "input_line_261:6:5: error: redefinition of 'MaxPMTNo'\n",
      "int MaxPMTNo = 50000;\n",
      "    ^\n",
      "input_line_64:7:5: note: previous definition is here\n",
      "int MaxPMTNo = 20;\n",
      "    ^\n",
      "input_line_261:7:5: error: redefinition of 'MaxPMTHits'\n",
      "int MaxPMTHits = 1000;\n",
      "    ^\n",
      "input_line_64:8:5: note: previous definition is here\n",
      "int MaxPMTHits = 5000;\n",
      "    ^\n",
      "input_line_261:8:7: error: redefinition of 'Finger_Edep_Max'\n",
      "float Finger_Edep_Max = 10.0;\n",
      "      ^\n",
      "input_line_64:9:7: note: previous definition is here\n",
      "float Finger_Edep_Max = 10.0;\n",
      "      ^\n",
      "input_line_261:9:7: error: redefinition of 'AnaBar_Edep_Max'\n",
      "float AnaBar_Edep_Max = 10.0;\n",
      "      ^\n",
      "input_line_64:10:7: note: previous definition is here\n",
      "float AnaBar_Edep_Max = 10.0;\n",
      "      ^\n",
      "input_line_261:10:7: error: redefinition of 'pedastel_sigma'\n",
      "float pedastel_sigma = 2.9;\n",
      "      ^\n",
      "input_line_64:11:7: note: previous definition is here\n",
      "float pedastel_sigma = 2.9;\n",
      "      ^\n",
      "input_line_261:11:5: error: redefinition of 'Detector_Offset'\n",
      "int Detector_Offset = 2560;\n",
      "    ^\n",
      "input_line_64:12:5: note: previous definition is here\n",
      "int Detector_Offset = 0;\n",
      "    ^\n",
      "input_line_261:16:5: error: redefinition of 'Finger_NPhotons_Max'\n",
      "int Finger_NPhotons_Max = 250;\n",
      "    ^\n",
      "input_line_64:14:5: note: previous definition is here\n",
      "int Finger_NPhotons_Max = 250;\n",
      "    ^\n",
      "input_line_261:17:5: error: redefinition of 'AnaBar_NPhotons_Max'\n",
      "int AnaBar_NPhotons_Max = 200;\n",
      "    ^\n",
      "input_line_64:15:5: note: previous definition is here\n",
      "int AnaBar_NPhotons_Max = 200;\n",
      "    ^\n",
      "input_line_261:19:11: error: redefinition of 'NUMPADDLE' with a different type: 'const int' vs 'int'\n",
      "const int NUMPADDLE = 14;\n",
      "          ^\n",
      "input_line_64:17:5: note: previous definition is here\n",
      "int NUMPADDLE = 14;\n",
      "    ^\n",
      "input_line_261:27:5: error: redefinition of 'NMaxPMT'\n",
      "int NMaxPMT = 14;\n",
      "    ^\n",
      "input_line_64:19:5: note: previous definition is here\n",
      "int NMaxPMT = 14;\n",
      "    ^\n",
      "input_line_261:29:6: error: redefinition of 'getTrigger'\n",
      "bool getTrigger(int Detector_Nhits, int* Detector_id) {\n",
      "     ^\n",
      "input_line_64:21:6: note: previous definition is here\n",
      "bool getTrigger(int Detector_Nhits, int* Detector_id) {\n",
      "     ^\n",
      "input_line_261:64:6: error: redefinition of 'getTrigger2'\n",
      "bool getTrigger2(bool trigger, float fNewTheta) {\n",
      "     ^\n",
      "input_line_64:42:6: note: previous definition is here\n",
      "bool getTrigger2(bool trigger, float fNewTheta) {\n",
      "     ^\n",
      "input_line_261:73:6: error: redefinition of 'getTrigger3'\n",
      "bool getTrigger3(bool trigger, float fNewTheta) {\n",
      "     ^\n",
      "input_line_64:51:6: note: previous definition is here\n",
      "bool getTrigger3(bool trigger, float fNewTheta) {\n",
      "     ^\n",
      "input_line_261:82:7: error: redefinition of 'getMass'\n",
      "float getMass(int Prim_pdg) {\n",
      "      ^\n",
      "input_line_64:60:7: note: previous definition is here\n",
      "float getMass(int Prim_pdg) {\n",
      "      ^\n",
      "input_line_261:101:7: error: redefinition of 'getMomentum'\n",
      "float getMomentum(float Prim_E, float fMass) {\n",
      "      ^\n",
      "input_line_64:79:7: note: previous definition is here\n",
      "float getMomentum(float Prim_E, float fMass) {\n",
      "      ^\n",
      "input_line_261:105:7: error: redefinition of 'getPx'\n",
      "float getPx(float fMomentum, float Prim_Th, float Prim_Ph) {\n",
      "      ^\n",
      "input_line_64:83:7: note: previous definition is here\n",
      "float getPx(float fMomentum, float Prim_Th, float Prim_Ph) {\n",
      "      ^\n",
      "fatal error: too many errors emitted, stopping now [-ferror-limit=]\n"
     ]
    }
   ],
   "source": [
    "triggerCode = '''\n",
    "int Analyse_Secondaries = 1;\n",
    "float Theta_min_cut = 2.524;\n",
    "float ThetaVerticalCut = 3.02;\n",
    "\n",
    "int MaxPMTNo = 50000;\n",
    "int MaxPMTHits = 1000;\n",
    "float Finger_Edep_Max = 10.0;\n",
    "float AnaBar_Edep_Max = 10.0;\n",
    "float pedastel_sigma = 2.9;\n",
    "int Detector_Offset = 2560;\n",
    "int Detector_PMT_Offset = 2500;\n",
    "int AnaBar_Offset = 30000;\n",
    "int AnaBar_PMT_Offset = 0;\n",
    "\n",
    "int Finger_NPhotons_Max = 250;\n",
    "int AnaBar_NPhotons_Max = 200;\n",
    "\n",
    "const int NUMPADDLE = 14;\n",
    "const int NUMBARS = 14;\n",
    "const int NUMMODULES = 3;\n",
    "const int NUMSIDES = 2;\n",
    "const int NUMLAYERS = 2;\n",
    "\n",
    "const int NDET = NUMPADDLE*NUMBARS*NUMMODULES*NUMSIDES*NUMLAYERS;\n",
    "\n",
    "int NMaxPMT = 14;\n",
    "\n",
    "bool getTrigger(int Detector_Nhits, int* Detector_id) {\n",
    "\n",
    "    bool tophit = false;\n",
    "    bool bottomhit = false;\n",
    "    bool fhit = false;\n",
    "    bool ahit = false;\n",
    "    bool trigger = false;\n",
    "    for (int j=0; j<Detector_Nhits; j++) {\n",
    "        //std::cout << \"Detector id = \" << Detector_id[j] << std::endl;\n",
    "        if ((Detector_id[j] == Detector_Offset || Detector_id[j] == Detector_Offset+1) && !tophit) {\n",
    "            tophit = true;\n",
    "            //std::cout << \"Top hit\" << Detector_id[j] << std::endl;\n",
    "        }\n",
    "        if ((Detector_id[j] == Detector_Offset+2 || Detector_id[j] == Detector_Offset+3) && !bottomhit) {\n",
    "            bottomhit = true;\n",
    "            //std::cout << \"Bottom hit\" << Detector_id[j] << std::endl;\n",
    "        }\n",
    "        for (int ibar=0; ibar<NUMPADDLE*NUMBARS*NUMMODULES*NUMSIDES*NUMLAYERS; ibar++){\n",
    "            if (Detector_id[j] == AnaBar_Offset + ibar) {\n",
    "                ahit = true;\n",
    "            }\n",
    "        }\n",
    "        if (tophit && bottomhit) {\n",
    "            fhit = true;\n",
    "            trigger = true;\n",
    "        }\n",
    "    }\n",
    "    \n",
    "    return trigger;\n",
    "}\n",
    "\n",
    "bool getTrigger2(bool trigger, float fNewTheta) {\n",
    "\n",
    "    bool trigger2 = false;\n",
    "    if (fNewTheta > Theta_min_cut) {\n",
    "        trigger2 = true;\n",
    "    }\n",
    "    return trigger2;\n",
    "}\n",
    "\n",
    "bool getTrigger3(bool trigger, float fNewTheta) {\n",
    "\n",
    "    bool trigger3 = false;\n",
    "    if (fNewTheta > ThetaVerticalCut) {\n",
    "        trigger3 = true;\n",
    "    }\n",
    "    return trigger3;\n",
    "}\n",
    "\n",
    "float getMass(int Prim_pdg) {\n",
    "\n",
    "    float fMass;\n",
    "    if (Prim_pdg == 11) {\n",
    "        fMass = 0.511;\n",
    "    } else {\n",
    "        if (Prim_pdg == 13) {\n",
    "            fMass = 105.7;\n",
    "        } else {\n",
    "            if (Prim_pdg == 2212) {\n",
    "                fMass = 938.28;\n",
    "            } else {\n",
    "                fMass = 939.65;\n",
    "            }\n",
    "        }\n",
    "    }\n",
    "    return fMass;\n",
    "}\n",
    "\n",
    "float getMomentum(float Prim_E, float fMass) {\n",
    "    return sqrt(Prim_E*Prim_E - fMass*fMass);\n",
    "}\n",
    "\n",
    "float getPx(float fMomentum, float Prim_Th, float Prim_Ph) {\n",
    "    return fMomentum*TMath::Sin(Prim_Th)*TMath::Cos(Prim_Ph);\n",
    "}\n",
    "\n",
    "float getPy(float fMomentum, float Prim_Th, float Prim_Ph) {\n",
    "    return fMomentum*TMath::Sin(Prim_Th)*TMath::Sin(Prim_Ph);\n",
    "}\n",
    "\n",
    "float getPz(float fMomentum, float Prim_Th, float Prim_Ph) {\n",
    "    return fMomentum*TMath::Cos(Prim_Th);\n",
    "}\n",
    "\n",
    "float getNewTheta(float fMomentum, float fPy) {\n",
    "    return TMath::ACos(fPy/fMomentum);\n",
    "}\n",
    "\n",
    "float getNewPhi(float fMomentum, float fPx, float fPz) {\n",
    "    float fNewPhi;\n",
    "    if (fPx < 0.0) {\n",
    "        fNewPhi = TMath::ATan(fPz/fPx) + TMath::Pi();\n",
    "    } else {\n",
    "        if (fPx > 0.0 && fPz < 0.0) {\n",
    "            fNewPhi = TMath::ATan(fPz/fPx) + TMath::TwoPi();\n",
    "        } else {\n",
    "            fNewPhi = TMath::ATan(fPz/fPx);\n",
    "        }\n",
    "    }\n",
    "    return fNewPhi;\n",
    "}\n",
    "\n",
    "int getAnaBarMult(bool trigger, int* PMT_Nphotons) {\n",
    "\n",
    "    int imult = 0;\n",
    "    float temp;\n",
    "    TRandom3* fRand = new TRandom3(-1);\n",
    "    \n",
    "    for (int icount = 0;icount < NUMPADDLE*NUMBARS*NUMMODULES*NUMSIDES*NUMLAYERS;icount++){\n",
    "        temp = PMT_Nphotons[icount]+fRand->Gaus(0.0,pedastel_sigma);\n",
    "        if (temp>3.0*pedastel_sigma) {\n",
    "            imult++;\n",
    "        }\n",
    "    }\n",
    "    \n",
    "    return imult;\n",
    "}\n",
    "\n",
    "std::vector<float> getFingerPMTKE(bool trigger, int* PMT_Nphotons, float* PMT_KineticEnergy) {\n",
    "    \n",
    "    std::vector<float> v;\n",
    "    \n",
    "    for (Int_t jq=0; jq<1; jq++){\n",
    "        if(PMT_KineticEnergy[(2500+jq)*MaxPMTHits] > 0.001) {\n",
    "            v.push_back(1240.0/PMT_KineticEnergy[(2500+jq)*MaxPMTHits]);\n",
    "        };\n",
    "    }\n",
    "    \n",
    "    return v;\n",
    "}\n",
    "\n",
    "std::vector<float> getAnaBarPMTKE(bool trigger, int* PMT_Nphotons, float* PMT_KineticEnergy) {\n",
    "    \n",
    "    std::vector<float> v;\n",
    "    \n",
    "    for (Int_t iq=0; iq<NUMPADDLE*NUMBARS*NUMMODULES*NUMSIDES*NUMLAYERS; iq++) {\n",
    "        for (Int_t jq=0; jq<1; jq++){\n",
    "            if(PMT_KineticEnergy[iq*MaxPMTHits+jq] > 0.001) {\n",
    "                v.push_back(1240.0/PMT_KineticEnergy[iq*MaxPMTHits+jq]);\n",
    "            };\n",
    "        }\n",
    "    }\n",
    "    \n",
    "    return v;\n",
    "}\n",
    "\n",
    "std::vector<float> getFingerXVec(bool trigger, int Detector_Nhits, int* Detector_id, int* Detector_pdg, float* Detector_x, int Prim_pdg) {\n",
    "\n",
    "    std::vector<float> v;\n",
    "\n",
    "    for (int j=0; j < Detector_Nhits; j++) {\n",
    "        if (trigger) {\n",
    "            if ((Detector_id[j] >= Detector_Offset && Detector_id[j] <= Detector_Offset+3) && Detector_pdg[j] == Prim_pdg) {\n",
    "                v.push_back(Detector_x[j]);\n",
    "            }\n",
    "        }\n",
    "    }\n",
    "    return v;\n",
    "}\n",
    "std::vector<float> getFingerYVec(bool trigger, int Detector_Nhits, int* Detector_id, int* Detector_pdg, float* Detector_y, int Prim_pdg) {\n",
    "    \n",
    "    std::vector<float> v;\n",
    "\n",
    "    for (int j=0; j < Detector_Nhits; j++) {\n",
    "        if (trigger) {\n",
    "            if ((Detector_id[j] >= Detector_Offset && Detector_id[j] <= Detector_Offset+3) && Detector_pdg[j] == Prim_pdg) {\n",
    "                v.push_back(Detector_y[j]);\n",
    "            }\n",
    "        }\n",
    "    }\n",
    "    return v;\n",
    "}\n",
    "std::vector<float> getFingerZVec(bool trigger, int Detector_Nhits, int* Detector_id, int* Detector_pdg, float* Detector_z, int Prim_pdg) {\n",
    "    \n",
    "    std::vector<float> v;\n",
    "    \n",
    "    for (int j=0; j < Detector_Nhits; j++) {\n",
    "        if (trigger) {\n",
    "            if ((Detector_id[j] >= Detector_Offset && Detector_id[j] <= Detector_Offset+3) && Detector_pdg[j] == Prim_pdg) {\n",
    "                v.push_back(Detector_z[j]);\n",
    "            }\n",
    "        }\n",
    "    }\n",
    "    return v;\n",
    "}\n",
    "std::vector<float> getFingerTVec(bool trigger, int Detector_Nhits, int* Detector_id, int* Detector_pdg, float* Detector_t, int Prim_pdg) {\n",
    "    \n",
    "    std::vector<float> v;\n",
    "    \n",
    "    for (int j=0; j < Detector_Nhits; j++) {\n",
    "        if (trigger) {\n",
    "            if ((Detector_id[j] >= Detector_Offset && Detector_id[j] <= Detector_Offset+3) && Detector_pdg[j] == Prim_pdg) {\n",
    "                v.push_back(Detector_t[j]);\n",
    "            }\n",
    "        }\n",
    "    }\n",
    "    return v;\n",
    "}\n",
    "\n",
    "std::vector<float> getAnaBarXVec(bool trigger, int Detector_Nhits, int* Detector_id, int* Detector_pdg, float* Detector_x, int Prim_pdg) {\n",
    "    \n",
    "    std::vector<float> v;\n",
    "    \n",
    "    for (int j=0; j < Detector_Nhits; j++) {\n",
    "        if (trigger) {\n",
    "            if (Detector_id[j] >= AnaBar_Offset && Detector_id[j] <= AnaBar_Offset+NUMPADDLE*NUMBARS*NUMMODULES*NUMSIDES*NUMLAYERS && Detector_pdg[j] == Prim_pdg) {\n",
    "                v.push_back(Detector_x[j]);\n",
    "            }\n",
    "        }\n",
    "    }\n",
    "    return v;\n",
    "}\n",
    "std::vector<float> getAnaBarYVec(bool trigger, int Detector_Nhits, int* Detector_id, int* Detector_pdg, float* Detector_y, int Prim_pdg) {\n",
    "    \n",
    "    std::vector<float> v;\n",
    "    \n",
    "    for (int j=0; j < Detector_Nhits; j++) {\n",
    "        if (trigger) {\n",
    "            if (Detector_id[j] >= AnaBar_Offset && Detector_id[j] <= AnaBar_Offset+NUMPADDLE*NUMBARS*NUMMODULES*NUMSIDES*NUMLAYERS && Detector_pdg[j] == Prim_pdg) {\n",
    "                v.push_back(Detector_y[j]);\n",
    "            }\n",
    "        }\n",
    "    }\n",
    "    return v;\n",
    "}\n",
    "std::vector<float> getAnaBarZVec(bool trigger, int Detector_Nhits, int* Detector_id, int* Detector_pdg, float* Detector_z, int Prim_pdg) {\n",
    "    \n",
    "    std::vector<float> v;\n",
    "    \n",
    "    for (int j=0; j < Detector_Nhits; j++) {\n",
    "        if (trigger) {\n",
    "            if (Detector_id[j] >= AnaBar_Offset && Detector_id[j] <= AnaBar_Offset+NUMPADDLE*NUMBARS*NUMMODULES*NUMSIDES*NUMLAYERS && Detector_pdg[j] == Prim_pdg) {\n",
    "                v.push_back(Detector_z[j]);\n",
    "            }\n",
    "        }\n",
    "    }\n",
    "    return v;\n",
    "}\n",
    "std::vector<float> getAnaBarTVec(bool trigger, int Detector_Nhits, int* Detector_id, int* Detector_pdg, float* Detector_t, int Prim_pdg) {\n",
    "   \n",
    "    std::vector<float> v;\n",
    "    \n",
    "    for (int j=0; j < Detector_Nhits; j++) {\n",
    "        if (trigger) {\n",
    "            if (Detector_id[j] >= AnaBar_Offset && Detector_id[j] <= AnaBar_Offset+NUMPADDLE*NUMBARS*NUMMODULES*NUMSIDES*NUMLAYERS && Detector_pdg[j] == Prim_pdg) {\n",
    "                v.push_back(Detector_t[j]);\n",
    "            }\n",
    "        }\n",
    "    }\n",
    "    return v;\n",
    "}\n",
    "\n",
    "std::vector<int> getFingerID(bool trigger, int Detector_Nhits, int* Detector_id, int* Detector_pdg) {\n",
    "    \n",
    "    std::vector<int> v;\n",
    "    \n",
    "    for (int j=0; j < Detector_Nhits; j++) {\n",
    "        if (trigger) {\n",
    "            if ((Detector_id[j] >= Detector_Offset && Detector_id[j] <= Detector_Offset+3)) {\n",
    "                v.push_back(Detector_id[j]);\n",
    "            }\n",
    "        }\n",
    "    }\n",
    "    return v;\n",
    "}\n",
    "\n",
    "std::vector<int> getFingerPDG(bool trigger, int Detector_Nhits, int* Detector_id, int* Detector_pdg) {\n",
    "    \n",
    "    std::vector<int> v;\n",
    "    \n",
    "    for (int j=0; j < Detector_Nhits; j++) {\n",
    "        if (trigger) {\n",
    "            if ((Detector_id[j] >= Detector_Offset && Detector_id[j] <= Detector_Offset+3)) {\n",
    "                v.push_back(Detector_pdg[j]);\n",
    "            }\n",
    "        }\n",
    "    }\n",
    "    return v;\n",
    "}\n",
    "\n",
    "std::vector<int> getAnaBarID(bool trigger, int Detector_Nhits, int* Detector_id, int* Detector_pdg) {\n",
    "\n",
    "    std::vector<int> v;\n",
    "    \n",
    "    for (int j=0; j < Detector_Nhits; j++) {\n",
    "        if (trigger) {\n",
    "            if (Detector_id[j] >= AnaBar_Offset && Detector_id[j] <= AnaBar_Offset+NUMPADDLE*NUMBARS*NUMMODULES*NUMSIDES*NUMLAYERS) {\n",
    "                v.push_back(Detector_id[j]);\n",
    "            }\n",
    "        }\n",
    "    }\n",
    "    return v;\n",
    "}\n",
    "\n",
    "std::vector<int> getAnaBarPDG(bool trigger, int Detector_Nhits, int* Detector_id, int* Detector_pdg) {\n",
    "    \n",
    "    std::vector<int> v;\n",
    "   \n",
    "    for (int j=0; j < Detector_Nhits; j++) {\n",
    "        if (trigger) {\n",
    "            if (Detector_id[j] >= AnaBar_Offset && Detector_id[j] <= AnaBar_Offset+NUMPADDLE*NUMBARS*NUMMODULES*NUMSIDES*NUMLAYERS) {\n",
    "                v.push_back(Detector_pdg[j]);\n",
    "            }\n",
    "        }\n",
    "    }\n",
    "    return v;\n",
    "}\n",
    "\n",
    "std::vector<float> getFingerPMTNPhotons(bool trigger, int* PMT_Nphotons) {\n",
    "    \n",
    "    std::vector<float> v;\n",
    "    TRandom3* fRand = new TRandom3(-1);\n",
    "    float pmt0tot = 0;\n",
    "    \n",
    "\n",
    "    if (trigger) {\n",
    "        for (Int_t icount = Detector_PMT_Offset;icount<Detector_PMT_Offset+2;icount++){\n",
    "            //std::cout << \"getFingerPMTNphotons: \" << icount << \" \" << PMT_Nphotons[icount] << std::endl;\n",
    "            pmt0tot += PMT_Nphotons[icount]+fRand->Gaus(0.0,pedastel_sigma);\n",
    "        }\n",
    "    }\n",
    "    \n",
    "    v.push_back(pmt0tot);\n",
    "    \n",
    "    return v;\n",
    "}\n",
    "\n",
    "std::vector<float> getAnaBarPMTNPhotons(bool trigger, int* PMT_Nphotons) {\n",
    "    \n",
    "    std::vector<float> v;\n",
    "    TRandom3* fRand = new TRandom3(-1);\n",
    "    float pmttot[NUMPADDLE*NUMBARS*NUMMODULES*NUMSIDES*NUMLAYERS];\n",
    "\n",
    "    if (trigger) {\n",
    "        for (Int_t icount = AnaBar_PMT_Offset;icount<AnaBar_PMT_Offset+NUMPADDLE*NUMBARS*NUMMODULES*NUMSIDES*NUMLAYERS;icount++){\n",
    "            if (PMT_Nphotons[icount]>0) {\n",
    "                //std::cout << \"getFingerPMTNphotons: \" << icount << \" \" << PMT_Nphotons[icount] << std::endl;\n",
    "                pmttot[icount] = PMT_Nphotons[icount]+fRand->Gaus(0.0,pedastel_sigma);\n",
    "                v.push_back(pmttot[icount]);\n",
    "            }\n",
    "        }\n",
    "    }\n",
    "    return v;\n",
    "}\n",
    "\n",
    "std::vector<float> getAnaBarNPhotonsTotal(bool trigger, int* PMT_Nphotons) {\n",
    "    \n",
    "    std::vector<float> v;\n",
    "    TRandom3* fRand = new TRandom3(-1);\n",
    "    float pmttot = 0;\n",
    "\n",
    "    if (trigger) {\n",
    "        for (Int_t icount = AnaBar_PMT_Offset;icount<AnaBar_PMT_Offset+NUMPADDLE*NUMBARS*NUMMODULES*NUMSIDES*NUMLAYERS;icount++){\n",
    "            if (PMT_Nphotons[icount]>0) {\n",
    "                pmttot = pmttot + PMT_Nphotons[icount]+fRand->Gaus(0.0,pedastel_sigma);\n",
    "            }\n",
    "        }\n",
    "    }\n",
    "    \n",
    "    v.push_back(pmttot);\n",
    "    \n",
    "    return v;\n",
    "}\n",
    "\n",
    "std::vector<float> getFingerEd(bool trigger, float fNewTheta, int Detector_Nhits, int Prim_pdg, int* Detector_id, int* Detector_pdg, float* Detector_Ed) {\n",
    "    \n",
    "    std::vector<float> v;\n",
    "    float edep0tot = 0;\n",
    "    \n",
    "    for (int j=0; j < Detector_Nhits; j++) {\n",
    "        if (trigger) {\n",
    "            if (Detector_id[j] == Detector_Offset || Detector_id[j] == Detector_Offset+1) {\n",
    "                if (Analyse_Secondaries == 1 && fNewTheta > Theta_min_cut) {\n",
    "                    edep0tot += Detector_Ed[j];\n",
    "                }\n",
    "            }\n",
    "        }\n",
    "    }\n",
    "    \n",
    "    v.push_back(edep0tot);\n",
    "    \n",
    "    return v;\n",
    "}\n",
    "\n",
    "std::vector<float> getAnaBarEd(bool trigger, float fNewTheta, int Detector_Nhits, int Prim_pdg, int* Detector_id, int* Detector_pdg, float* Detector_Ed) {\n",
    "    \n",
    "    std::vector<float> v;\n",
    "    float edeptot[NUMPADDLE*NUMBARS*NUMMODULES*NUMSIDES*NUMLAYERS];\n",
    "    \n",
    "    for (int j=0; j<NUMPADDLE*NUMBARS*NUMMODULES*NUMSIDES*NUMLAYERS; j++) {\n",
    "        edeptot[j]=0.0;\n",
    "    }\n",
    "    \n",
    "    for (int j=0; j < Detector_Nhits; j++) {\n",
    "        if (trigger) {\n",
    "            if (Detector_Ed[j] > 0.0 && Detector_id[j] >= AnaBar_Offset && Detector_id[j] <= AnaBar_Offset+NUMPADDLE*NUMBARS*NUMMODULES*NUMSIDES*NUMLAYERS) {\n",
    "                if (Analyse_Secondaries == 1 && fNewTheta > Theta_min_cut) {\n",
    "                    edeptot[Detector_id[j]-AnaBar_Offset] += Detector_Ed[j];\n",
    "                    //std::cout << \"j: \" << j << \"  index: \" << Detector_id[j]-AnaBar_Offset << \" energy: \" << Detector_Ed[j] << std::endl;\n",
    "                } else {\n",
    "                    if (Detector_pdg[j] == Prim_pdg && fNewTheta > Theta_min_cut) {\n",
    "                        edeptot[Detector_id[j]-AnaBar_Offset] += Detector_Ed[j];\n",
    "                    }\n",
    "                }\n",
    "            }\n",
    "        }\n",
    "    }\n",
    "    \n",
    "    for (int j=0; j<NUMPADDLE*NUMBARS*NUMMODULES*NUMSIDES*NUMLAYERS; j++) {\n",
    "        if (edeptot[j] > 0.0) {\n",
    "            v.push_back(edeptot[j]);\n",
    "        }\n",
    "    }\n",
    "    \n",
    "    return v;\n",
    "}\n",
    "\n",
    "std::vector<float> getAnaBarEdTotal(bool trigger, float fNewTheta, int Detector_Nhits, int Prim_pdg, int* Detector_id, int* Detector_pdg, float* Detector_Ed) {\n",
    "    \n",
    "    std::vector<float> v;\n",
    "    float edeptotal = 0;\n",
    "    float edeptot[NUMPADDLE*NUMBARS*NUMMODULES*NUMSIDES*NUMLAYERS];\n",
    "    \n",
    "    for (int j=0; j<NUMPADDLE*NUMBARS*NUMMODULES*NUMSIDES*NUMLAYERS; j++) {\n",
    "        edeptot[j]=0.0;\n",
    "    }\n",
    "    \n",
    "    for (int j=0; j < Detector_Nhits; j++) {\n",
    "        if (trigger) {\n",
    "            if (Detector_Ed[j] > 0.0 && Detector_id[j] >= AnaBar_Offset  && Detector_id[j] <= AnaBar_Offset + NUMPADDLE*NUMBARS*NUMMODULES*NUMSIDES*NUMLAYERS) {\n",
    "                if (Analyse_Secondaries == 1 && fNewTheta > Theta_min_cut) {\n",
    "                    edeptot[Detector_id[j]-AnaBar_Offset] += Detector_Ed[j];\n",
    "                } else {\n",
    "                    if (Detector_pdg[j] == Prim_pdg && fNewTheta > Theta_min_cut) {\n",
    "                        edeptot[Detector_id[j]-AnaBar_Offset] += Detector_Ed[j];\n",
    "                    }\n",
    "                }\n",
    "            }\n",
    "        }\n",
    "    }\n",
    "    \n",
    "    for (int j=0; j<NUMPADDLE*NUMBARS*NUMMODULES*NUMSIDES*NUMLAYERS; j++) {\n",
    "        if (edeptot[j] > 0.0) {\n",
    "            edeptotal += edeptot[j];\n",
    "        }\n",
    "    }\n",
    "    \n",
    "    v.push_back(edeptotal);\n",
    "    \n",
    "    return v;\n",
    "}\n",
    "'''\n",
    "\n",
    "root.gInterpreter.Declare(triggerCode)\n"
   ]
  },
  {
   "cell_type": "code",
   "execution_count": 27,
   "metadata": {
    "tags": []
   },
   "outputs": [
    {
     "ename": "runtime_error",
     "evalue": "Template method resolution failed:\n  ROOT::RDF::RInterface<ROOT::Detail::RDF::RLoopManager,void> ROOT::RDF::RInterface<ROOT::Detail::RDF::RLoopManager,void>::Define(experimental::basic_string_view<char,char_traits<char> > name, experimental::basic_string_view<char,char_traits<char> > expression) =>\n    runtime_error: \nRDataFrame: An error occurred during just-in-time compilation. The lines above might indicate the cause of the crash\n All RDF objects that have not run an event loop yet should be considered in an invalid state.\n\n  ROOT::RDF::RInterface<ROOT::Detail::RDF::RLoopManager,void> ROOT::RDF::RInterface<ROOT::Detail::RDF::RLoopManager,void>::Define(experimental::basic_string_view<char,char_traits<char> > name, experimental::basic_string_view<char,char_traits<char> > expression) =>\n    runtime_error: \nRDataFrame: An error occurred during just-in-time compilation. The lines above might indicate the cause of the crash\n All RDF objects that have not run an event loop yet should be considered in an invalid state.\n\n  none of the 2 overloaded methods succeeded. Full details:\n  ROOT::RDF::RInterface<ROOT::Detail::RDF::RLoopManager,void> ROOT::RDF::RInterface<ROOT::Detail::RDF::RLoopManager,void>::Define(experimental::basic_string_view<char,char_traits<char> > name, experimental::basic_string_view<char,char_traits<char> > expression) =>\n    runtime_error: \nRDataFrame: An error occurred during just-in-time compilation. The lines above might indicate the cause of the crash\n All RDF objects that have not run an event loop yet should be considered in an invalid state.\n\n  ROOT::RDF::RInterface<ROOT::Detail::RDF::RLoopManager,void> ROOT::RDF::RInterface<ROOT::Detail::RDF::RLoopManager,void>::Define(experimental::basic_string_view<char,char_traits<char> > name, experimental::basic_string_view<char,char_traits<char> > expression) =>\n    runtime_error: \nRDataFrame: An error occurred during just-in-time compilation. The lines above might indicate the cause of the crash\n All RDF objects that have not run an event loop yet should be considered in an invalid state.\n\n  ROOT::RDF::RInterface<ROOT::Detail::RDF::RLoopManager,void> ROOT::RDF::RInterface<ROOT::Detail::RDF::RLoopManager,void>::Define(experimental::basic_string_view<char,char_traits<char> > name, experimental::basic_string_view<char,char_traits<char> > expression) =>\n    runtime_error: \nRDataFrame: An error occurred during just-in-time compilation. The lines above might indicate the cause of the crash\n All RDF objects that have not run an event loop yet should be considered in an invalid state.\n",
     "output_type": "error",
     "traceback": [
      "\u001b[0;31m---------------------------------------------------------------------------\u001b[0m",
      "\u001b[0;31mruntime_error\u001b[0m                             Traceback (most recent call last)",
      "\u001b[0;32m<ipython-input-27-db01e0376518>\u001b[0m in \u001b[0;36m<module>\u001b[0;34m\u001b[0m\n\u001b[1;32m     25\u001b[0m        \u001b[0;34m.\u001b[0m\u001b[0mDefine\u001b[0m\u001b[0;34m(\u001b[0m\u001b[0;34m\"anaBarNPhotonsTotal\"\u001b[0m\u001b[0;34m,\u001b[0m\u001b[0;34m\"getAnaBarNPhotonsTotal(trigger,&PMT_Nphotons[0])\"\u001b[0m\u001b[0;34m)\u001b[0m\u001b[0;31m \u001b[0m\u001b[0;31m\\\u001b[0m\u001b[0;34m\u001b[0m\u001b[0;34m\u001b[0m\u001b[0m\n\u001b[1;32m     26\u001b[0m        \u001b[0;34m.\u001b[0m\u001b[0mDefine\u001b[0m\u001b[0;34m(\u001b[0m\u001b[0;34m\"imult\"\u001b[0m\u001b[0;34m,\u001b[0m\u001b[0;34m\"getAnaBarMult(trigger,&PMT_Nphotons[0])\"\u001b[0m\u001b[0;34m)\u001b[0m\u001b[0;31m \u001b[0m\u001b[0;31m\\\u001b[0m\u001b[0;34m\u001b[0m\u001b[0;34m\u001b[0m\u001b[0m\n\u001b[0;32m---> 27\u001b[0;31m        \u001b[0;34m.\u001b[0m\u001b[0mDefine\u001b[0m\u001b[0;34m(\u001b[0m\u001b[0;34m\"fingerPMTKE\"\u001b[0m\u001b[0;34m,\u001b[0m\u001b[0;34m\"getFingerPMTKE(trigger,&PMT_Nphotons[0],&PMT_KineticEnergy[0])\"\u001b[0m\u001b[0;34m)\u001b[0m\u001b[0;31m \u001b[0m\u001b[0;31m\\\u001b[0m\u001b[0;34m\u001b[0m\u001b[0;34m\u001b[0m\u001b[0m\n\u001b[0m\u001b[1;32m     28\u001b[0m        \u001b[0;34m.\u001b[0m\u001b[0mDefine\u001b[0m\u001b[0;34m(\u001b[0m\u001b[0;34m\"anaBarPMTKE\"\u001b[0m\u001b[0;34m,\u001b[0m\u001b[0;34m\"getAnaBarPMTKE(trigger,&PMT_Nphotons[0],&PMT_KineticEnergy[0])\"\u001b[0m\u001b[0;34m)\u001b[0m\u001b[0;31m \u001b[0m\u001b[0;31m\\\u001b[0m\u001b[0;34m\u001b[0m\u001b[0;34m\u001b[0m\u001b[0m\n\u001b[1;32m     29\u001b[0m        \u001b[0;34m.\u001b[0m\u001b[0mDefine\u001b[0m\u001b[0;34m(\u001b[0m\u001b[0;34m\"fingerEd\"\u001b[0m\u001b[0;34m,\u001b[0m\u001b[0;34m\"getFingerEd(trigger,fNewTheta,Detector_Nhits,Prim_pdg,&Detector_id[0],&Detector_pdg[0],&Detector_Ed[0])\"\u001b[0m\u001b[0;34m)\u001b[0m\u001b[0;31m \u001b[0m\u001b[0;31m\\\u001b[0m\u001b[0;34m\u001b[0m\u001b[0;34m\u001b[0m\u001b[0m\n",
      "\u001b[0;31mruntime_error\u001b[0m: Template method resolution failed:\n  ROOT::RDF::RInterface<ROOT::Detail::RDF::RLoopManager,void> ROOT::RDF::RInterface<ROOT::Detail::RDF::RLoopManager,void>::Define(experimental::basic_string_view<char,char_traits<char> > name, experimental::basic_string_view<char,char_traits<char> > expression) =>\n    runtime_error: \nRDataFrame: An error occurred during just-in-time compilation. The lines above might indicate the cause of the crash\n All RDF objects that have not run an event loop yet should be considered in an invalid state.\n\n  ROOT::RDF::RInterface<ROOT::Detail::RDF::RLoopManager,void> ROOT::RDF::RInterface<ROOT::Detail::RDF::RLoopManager,void>::Define(experimental::basic_string_view<char,char_traits<char> > name, experimental::basic_string_view<char,char_traits<char> > expression) =>\n    runtime_error: \nRDataFrame: An error occurred during just-in-time compilation. The lines above might indicate the cause of the crash\n All RDF objects that have not run an event loop yet should be considered in an invalid state.\n\n  none of the 2 overloaded methods succeeded. Full details:\n  ROOT::RDF::RInterface<ROOT::Detail::RDF::RLoopManager,void> ROOT::RDF::RInterface<ROOT::Detail::RDF::RLoopManager,void>::Define(experimental::basic_string_view<char,char_traits<char> > name, experimental::basic_string_view<char,char_traits<char> > expression) =>\n    runtime_error: \nRDataFrame: An error occurred during just-in-time compilation. The lines above might indicate the cause of the crash\n All RDF objects that have not run an event loop yet should be considered in an invalid state.\n\n  ROOT::RDF::RInterface<ROOT::Detail::RDF::RLoopManager,void> ROOT::RDF::RInterface<ROOT::Detail::RDF::RLoopManager,void>::Define(experimental::basic_string_view<char,char_traits<char> > name, experimental::basic_string_view<char,char_traits<char> > expression) =>\n    runtime_error: \nRDataFrame: An error occurred during just-in-time compilation. The lines above might indicate the cause of the crash\n All RDF objects that have not run an event loop yet should be considered in an invalid state.\n\n  ROOT::RDF::RInterface<ROOT::Detail::RDF::RLoopManager,void> ROOT::RDF::RInterface<ROOT::Detail::RDF::RLoopManager,void>::Define(experimental::basic_string_view<char,char_traits<char> > name, experimental::basic_string_view<char,char_traits<char> > expression) =>\n    runtime_error: \nRDataFrame: An error occurred during just-in-time compilation. The lines above might indicate the cause of the crash\n All RDF objects that have not run an event loop yet should be considered in an invalid state.\n"
     ]
    },
    {
     "name": "stderr",
     "output_type": "stream",
     "text": [
      "input_line_252:2:107: error: use of undeclared identifier 'PMT_KineticEnergy'\n",
      "auto lambda33 = [](const bool var0, ROOT::VecOps::RVec<Int_t>& var1){return getFingerPMTKE(var0,&var1[0],&PMT_KineticEnergy[0])\n",
      "                                                                                                          ^\n",
      "input_line_253:2:107: error: use of undeclared identifier 'PMT_KineticEnergy'\n",
      "auto lambda33 = [](const bool var0, ROOT::VecOps::RVec<Int_t>& var1){return getFingerPMTKE(var0,&var1[0],&PMT_KineticEnergy[0])\n",
      "                                                                                                          ^\n",
      "input_line_254:2:107: error: use of undeclared identifier 'PMT_KineticEnergy'\n",
      "auto lambda33 = [](const bool var0, ROOT::VecOps::RVec<Int_t>& var1){return getFingerPMTKE(var0,&var1[0],&PMT_KineticEnergy[0])\n",
      "                                                                                                          ^\n",
      "input_line_255:2:107: error: use of undeclared identifier 'PMT_KineticEnergy'\n",
      "auto lambda33 = [](const bool var0, ROOT::VecOps::RVec<Int_t>& var1){return getFingerPMTKE(var0,&var1[0],&PMT_KineticEnergy[0])\n",
      "                                                                                                          ^\n",
      "input_line_256:2:107: error: use of undeclared identifier 'PMT_KineticEnergy'\n",
      "auto lambda33 = [](const bool var0, ROOT::VecOps::RVec<Int_t>& var1){return getFingerPMTKE(var0,&var1[0],&PMT_KineticEnergy[0])\n",
      "                                                                                                          ^\n"
     ]
    }
   ],
   "source": [
    "fdf = d.Define(\"trigger\", \"getTrigger(Detector_Nhits, &Detector_id[0])\") \\\n",
    "       .Define(\"fMass\", \"getMass(Prim_pdg)\") \\\n",
    "       .Define(\"fMomentum\",\"getMomentum(Prim_E,fMass)\") \\\n",
    "       .Define(\"fPx\", \"getPx(fMomentum,Prim_Th,Prim_Ph)\") \\\n",
    "       .Define(\"fPy\", \"getPy(fMomentum,Prim_Th,Prim_Ph)\") \\\n",
    "       .Define(\"fPz\", \"getPz(fMomentum,Prim_Th,Prim_Ph)\") \\\n",
    "       .Define(\"fNewTheta\", \"getNewTheta(fMomentum,fPy)\") \\\n",
    "       .Define(\"fNewPhi\", \"getNewPhi(fMomentum,fPx,fPz)\") \\\n",
    "       .Define(\"trigger2\", \"getTrigger2(trigger,fNewTheta)\") \\\n",
    "       .Define(\"trigger3\", \"getTrigger3(trigger,fNewTheta)\") \\\n",
    "       .Define(\"fingerXVec\",\"getFingerXVec(trigger,Detector_Nhits,&Detector_id[0],&Detector_pdg[0],&Detector_x[0],Prim_pdg)\") \\\n",
    "       .Define(\"fingerYVec\",\"getFingerYVec(trigger,Detector_Nhits,&Detector_id[0],&Detector_pdg[0],&Detector_y[0],Prim_pdg)\") \\\n",
    "       .Define(\"fingerZVec\",\"getFingerZVec(trigger,Detector_Nhits,&Detector_id[0],&Detector_pdg[0],&Detector_z[0],Prim_pdg)\") \\\n",
    "       .Define(\"fingerTVec\",\"getFingerTVec(trigger,Detector_Nhits,&Detector_id[0],&Detector_pdg[0],&Detector_t[0],Prim_pdg)\") \\\n",
    "       .Define(\"anaBarXVec\",\"getAnaBarXVec(trigger,Detector_Nhits,&Detector_id[0],&Detector_pdg[0],&Detector_x[0],Prim_pdg)\") \\\n",
    "       .Define(\"anaBarYVec\",\"getAnaBarYVec(trigger,Detector_Nhits,&Detector_id[0],&Detector_pdg[0],&Detector_y[0],Prim_pdg)\") \\\n",
    "       .Define(\"anaBarZVec\",\"getAnaBarZVec(trigger,Detector_Nhits,&Detector_id[0],&Detector_pdg[0],&Detector_z[0],Prim_pdg)\") \\\n",
    "       .Define(\"anaBarTVec\",\"getAnaBarTVec(trigger,Detector_Nhits,&Detector_id[0],&Detector_pdg[0],&Detector_t[0],Prim_pdg)\") \\\n",
    "       .Define(\"fingerID\",\"getFingerID(trigger,Detector_Nhits,&Detector_id[0],&Detector_pdg[0])\") \\\n",
    "       .Define(\"fingerPDG\",\"getFingerPDG(trigger,Detector_Nhits,&Detector_id[0],&Detector_pdg[0])\") \\\n",
    "       .Define(\"anaBarID\",\"getAnaBarID(trigger,Detector_Nhits,&Detector_id[0],&Detector_pdg[0])\") \\\n",
    "       .Define(\"anaBarPDG\",\"getAnaBarPDG(trigger,Detector_Nhits,&Detector_id[0],&Detector_pdg[0])\") \\\n",
    "       .Define(\"fingerPMTNPhotons\",\"getFingerPMTNPhotons(trigger,&PMT_Nphotons[0])\") \\\n",
    "       .Define(\"anaBarPMTNPhotons\",\"getAnaBarPMTNPhotons(trigger,&PMT_Nphotons[0])\") \\\n",
    "       .Define(\"anaBarNPhotonsTotal\",\"getAnaBarNPhotonsTotal(trigger,&PMT_Nphotons[0])\") \\\n",
    "       .Define(\"imult\",\"getAnaBarMult(trigger,&PMT_Nphotons[0])\") \\\n",
    "       .Define(\"fingerPMTKE\",\"getFingerPMTKE(trigger,&PMT_Nphotons[0],&PMT_KineticEnergy[0])\") \\\n",
    "       .Define(\"anaBarPMTKE\",\"getAnaBarPMTKE(trigger,&PMT_Nphotons[0],&PMT_KineticEnergy[0])\") \\\n",
    "       .Define(\"fingerEd\",\"getFingerEd(trigger,fNewTheta,Detector_Nhits,Prim_pdg,&Detector_id[0],&Detector_pdg[0],&Detector_Ed[0])\") \\\n",
    "       .Define(\"anaBarEd\",\"getAnaBarEd(trigger,fNewTheta,Detector_Nhits,Prim_pdg,&Detector_id[0],&Detector_pdg[0],&Detector_Ed[0])\") \\\n",
    "       .Define(\"anaBarEdTotal\",\"getAnaBarEdTotal(trigger,fNewTheta,Detector_Nhits,Prim_pdg,&Detector_id[0],&Detector_pdg[0],&Detector_Ed[0])\")\n",
    "\n",
    "triggers = fdf.Filter(\"trigger==true\").Count()\n",
    "print('{} entries passed trigger'.format(triggers.GetValue()))\n",
    "\n",
    "fdft = fdf.Filter(\"trigger==true\")"
   ]
  },
  {
   "cell_type": "code",
   "execution_count": 28,
   "metadata": {
    "tags": []
   },
   "outputs": [
    {
     "name": "stderr",
     "output_type": "stream",
     "text": [
      "Warning in <TCanvas::Constructor>: Deleting canvas with same name: c1\n",
      "Info in <TCanvas::Print>: pdf file plots/c1RA.pdf has been created\n"
     ]
    },
    {
     "data": {
      "image/png": "[encoded data removed]",
      "text/plain": [
       "<IPython.core.display.Image object>"
      ]
     },
     "metadata": {},
     "output_type": "display_data"
    }
   ],
   "source": [
    "# Canvas 1\n",
    "\n",
    "hFingerX = fdft.Histo1D('fingerXVec')\n",
    "hFingerY = fdft.Histo1D('fingerYVec')\n",
    "hFingerZ = fdft.Histo1D('fingerZVec')\n",
    "hFingerT = fdft.Histo1D('fingerTVec')\n",
    "\n",
    "c1 = root.TCanvas(\"c1\",\"c1\",800,800)\n",
    "c1.Divide(2,2,0.01,0.01,0)\n",
    "\n",
    "c1.cd(1)\n",
    "hFingerX.Draw()\n",
    "c1.cd(2)\n",
    "hFingerY.Draw()\n",
    "c1.cd(3)\n",
    "hFingerZ.Draw()\n",
    "c1.cd(4)\n",
    "hFingerT.Draw()\n",
    "\n",
    "c1.Draw()\n",
    "c1.Print(\"plots/c1RA.pdf\");"
   ]
  },
  {
   "cell_type": "code",
   "execution_count": 29,
   "metadata": {
    "tags": []
   },
   "outputs": [
    {
     "name": "stderr",
     "output_type": "stream",
     "text": [
      "Warning in <TCanvas::Constructor>: Deleting canvas with same name: c2\n",
      "Info in <TCanvas::Print>: pdf file plots/c2RA.pdf has been created\n"
     ]
    },
    {
     "data": {
      "image/png": "[encoded data removed]",
      "text/plain": [
       "<IPython.core.display.Image object>"
      ]
     },
     "metadata": {},
     "output_type": "display_data"
    }
   ],
   "source": [
    "# Canvas 2\n",
    "\n",
    "hPrimE = fdft.Histo1D('Prim_E')\n",
    "hPrimTh = fdft.Histo1D('fNewTheta')\n",
    "hPrimPh = fdft.Histo1D('fNewPhi')\n",
    "hPrimPdg = fdft.Histo1D('Prim_pdg')\n",
    "\n",
    "c2 = root.TCanvas(\"c2\",\"c2\",800,800)\n",
    "c2.Divide(2,2,0.01,0.01,0)\n",
    "\n",
    "c2.cd(1)\n",
    "hPrimE.Draw()\n",
    "c2.cd(2)\n",
    "hPrimTh.Draw()\n",
    "c2.cd(3)\n",
    "hPrimPh.Draw()\n",
    "c2.cd(4)\n",
    "hPrimPdg.Draw()\n",
    "\n",
    "c2.Draw()\n",
    "c2.Print(\"plots/c2RA.pdf\")\n"
   ]
  },
  {
   "cell_type": "code",
   "execution_count": 30,
   "metadata": {
    "tags": []
   },
   "outputs": [
    {
     "name": "stderr",
     "output_type": "stream",
     "text": [
      "Warning in <TCanvas::Constructor>: Deleting canvas with same name: c3\n",
      "Info in <TCanvas::Print>: pdf file plots/c3RA.pdf has been created\n"
     ]
    },
    {
     "data": {
      "image/png": "[encoded data removed]",
      "text/plain": [
       "<IPython.core.display.Image object>"
      ]
     },
     "metadata": {},
     "output_type": "display_data"
    }
   ],
   "source": [
    "# Canvas 3\n",
    "\n",
    "hDetectorNhits = fdft.Histo1D('Detector_Nhits')\n",
    "hDetectorPdg = fdft.Histo1D('anaBarPDG')\n",
    "hDetectorID = fdft.Histo1D('anaBarID')\n",
    "hFingerPdg = fdft.Histo1D('fingerPDG')\n",
    "hFingerID = fdft.Histo1D('fingerID')\n",
    "hPMTID = fdft.Histo1D('PMT_id')\n",
    "\n",
    "c3 = root.TCanvas(\"c3\",\"c3\",800,800)\n",
    "c3.Divide(3,2,0.01,0.01,0)\n",
    "\n",
    "c3.cd(1)\n",
    "hDetectorNhits.Draw()\n",
    "c3.cd(2)\n",
    "hFingerPdg.Draw()\n",
    "c3.cd(3)\n",
    "hDetectorPdg.Draw()\n",
    "c3.cd(4)\n",
    "hFingerID.Draw()\n",
    "c3.cd(5)\n",
    "hDetectorID.Draw()\n",
    "c3.cd(6)\n",
    "##hPMTID.GetXaxis().SetRangeUser(0,14)\n",
    "hPMTID.Draw()\n",
    "\n",
    "c3.Draw()\n",
    "c3.Print(\"plots/c3RA.pdf\")\n"
   ]
  },
  {
   "cell_type": "code",
   "execution_count": 31,
   "metadata": {
    "tags": []
   },
   "outputs": [
    {
     "name": "stderr",
     "output_type": "stream",
     "text": [
      "Warning in <TCanvas::Constructor>: Deleting canvas with same name: c4\n",
      "Info in <TCanvas::Print>: pdf file plots/c4RA.pdf has been created\n"
     ]
    },
    {
     "data": {
      "image/png": "[encoded data removed]",
      "text/plain": [
       "<IPython.core.display.Image object>"
      ]
     },
     "metadata": {},
     "output_type": "display_data"
    }
   ],
   "source": [
    "# Canvas 4\n",
    "\n",
    "hFingerEd = fdft.Histo1D('fingerEd')\n",
    "hFingerPMTNphot = fdft.Histo1D('fingerPMTNPhotons')\n",
    "hAnaBarPMTNphot = fdft.Histo1D('anaBarPMTNPhotons')\n",
    "hAnaBarEd = fdft.Histo1D('anaBarEd')\n",
    "\n",
    "c4 = root.TCanvas(\"c4\",\"c4\",800,800)\n",
    "\n",
    "c4.cd()\n",
    "pad = root.TPad(\"pad\",\"pad\",0.01,0.51,0.50,0.99)\n",
    "pad.Draw()\n",
    "pad.cd()\n",
    "hFingerEd.GetXaxis().SetRangeUser(1.0,10)\n",
    "hFingerEd.Draw();\n",
    "\n",
    "c4.cd()\n",
    "pad = root.TPad(\"pad\",\"pad\",0.51,0.51,0.99,0.99)\n",
    "pad.Draw()\n",
    "pad.cd()\n",
    "hFingerPMTNphot.GetXaxis().SetRangeUser(-10,250)\n",
    "hFingerPMTNphot.Draw()\n",
    "\n",
    "c4.cd()\n",
    "pad = root.TPad(\"pad\",\"pad\",0.01,0.01,0.50,0.50)\n",
    "#pad.SetLogy()\n",
    "pad.Draw()\n",
    "pad.cd()\n",
    "hAnaBarEd.GetXaxis().SetRangeUser(1.0,10)\n",
    "hAnaBarEd.Draw();\n",
    "\n",
    "c4.cd()\n",
    "pad = root.TPad(\"pad\",\"pad\",0.51,0.01,0.99,0.50)\n",
    "#pad.SetLogy()\n",
    "pad.Draw()\n",
    "pad.cd()\n",
    "hAnaBarPMTNphot.GetXaxis().SetRangeUser(-20,180)\n",
    "hAnaBarPMTNphot.Draw()\n",
    "\n",
    "c4.Draw()\n",
    "c4.Print(\"plots/c4RA.pdf\")"
   ]
  },
  {
   "cell_type": "code",
   "execution_count": 22,
   "metadata": {
    "tags": []
   },
   "outputs": [
    {
     "name": "stderr",
     "output_type": "stream",
     "text": [
      "Info in <TCanvas::Print>: pdf file plots/c5RA.pdf has been created\n"
     ]
    },
    {
     "data": {
      "image/png": "[encoded data removed]",
      "text/plain": [
       "<IPython.core.display.Image object>"
      ]
     },
     "metadata": {},
     "output_type": "display_data"
    }
   ],
   "source": [
    "# Canvas 5\n",
    "\n",
    "hAnaBarX = fdft.Histo1D('anaBarXVec')\n",
    "hAnaBarY = fdft.Histo1D('anaBarYVec')\n",
    "hAnaBarZ = fdft.Histo1D('anaBarZVec')\n",
    "hAnaBarT = fdft.Histo1D('anaBarTVec')\n",
    "\n",
    "c5 = root.TCanvas(\"c5\",\"c5\",800,800)\n",
    "c5.Divide(2,2,0.01,0.01,0)\n",
    "\n",
    "c5.cd(1)\n",
    "hAnaBarX.Draw()\n",
    "c5.cd(2)\n",
    "hAnaBarY.Draw()\n",
    "c5.cd(3)\n",
    "hAnaBarZ.Draw()\n",
    "c5.cd(4)\n",
    "hAnaBarT.Draw()\n",
    "\n",
    "c5.Draw()\n",
    "c5.Print(\"plots/c5RA.pdf\");"
   ]
  },
  {
   "cell_type": "code",
   "execution_count": null,
   "metadata": {},
   "outputs": [],
   "source": []
  },
  {
   "cell_type": "code",
   "execution_count": 23,
   "metadata": {
    "tags": []
   },
   "outputs": [
    {
     "name": "stderr",
     "output_type": "stream",
     "text": [
      "Info in <TCanvas::Print>: pdf file plots/c6RA.pdf has been created\n"
     ]
    },
    {
     "data": {
      "image/png": "[encoded data removed]",
      "text/plain": [
       "<IPython.core.display.Image object>"
      ]
     },
     "metadata": {},
     "output_type": "display_data"
    }
   ],
   "source": [
    "hE1vsE2 = fdft.Histo2D((\"h2\", \"E1 vs E2\", 100, 0.01, 10.0, 100, 0.01, 30.0),\"fingerEd\",\"anaBarEdTotal\")\n",
    "\n",
    "c6 = root.TCanvas(\"c6\", \"c6\", 800, 800)\n",
    "c6.Divide(1,1, 0.01, 0.01, 0)\n",
    "\n",
    "c6.cd(1)\n",
    "hE1vsE2.Draw(\"COLZ\")\n",
    "\n",
    "c6.Draw()\n",
    "c6.Print(\"plots/c6RA.pdf\")"
   ]
  },
  {
   "cell_type": "code",
   "execution_count": 24,
   "metadata": {
    "tags": []
   },
   "outputs": [
    {
     "data": {
      "text/plain": [
       "<cppyy.gbl.TFitResultPtr object at 0xf064ed0>"
      ]
     },
     "execution_count": 24,
     "metadata": {},
     "output_type": "execute_result"
    },
    {
     "name": "stdout",
     "output_type": "stream",
     "text": [
      "\n",
      "****************************************\n",
      "Minimizer is Linear / Migrad\n",
      "Chi2                      =     0.233881\n",
      "NDf                       =            1\n",
      "p0                        =      126.874   +/-   43.2406     \n",
      "p1                        =      8.82683   +/-   6.53101     \n"
     ]
    },
    {
     "name": "stderr",
     "output_type": "stream",
     "text": [
      "Error in <TFitResultPtr>: TFitResult is empty - use the fit option S\n",
      "Error in <TFitResultPtr>: TFitResult is empty - use the fit option S\n",
      "Error in <TFitResultPtr>: TFitResult is empty - use the fit option S\n",
      "Error in <TFitResultPtr>: TFitResult is empty - use the fit option S\n",
      "Error in <TFitResultPtr>: TFitResult is empty - use the fit option S\n",
      "Error in <TFitResultPtr>: TFitResult is empty - use the fit option S\n",
      "Error in <TFitResultPtr>: TFitResult is empty - use the fit option S\n",
      "Error in <TFitResultPtr>: TFitResult is empty - use the fit option S\n",
      "Error in <TFitResultPtr>: TFitResult is empty - use the fit option S\n",
      "Error in <TFitResultPtr>: TFitResult is empty - use the fit option S\n",
      "Error in <TFitResultPtr>: TFitResult is empty - use the fit option S\n",
      "Error in <TFitResultPtr>: TFitResult is empty - use the fit option S\n",
      "Error in <TFitResultPtr>: TFitResult is empty - use the fit option S\n",
      "Error in <TFitResultPtr>: TFitResult is empty - use the fit option S\n",
      "Error in <TFitResultPtr>: TFitResult is empty - use the fit option S\n",
      "Error in <TFitResultPtr>: TFitResult is empty - use the fit option S\n",
      "Error in <TFitResultPtr>: TFitResult is empty - use the fit option S\n",
      "Error in <TFitResultPtr>: TFitResult is empty - use the fit option S\n",
      "Error in <TFitResultPtr>: TFitResult is empty - use the fit option S\n",
      "Error in <TFitResultPtr>: TFitResult is empty - use the fit option S\n",
      "Error in <TFitResultPtr>: TFitResult is empty - use the fit option S\n",
      "Error in <TFitResultPtr>: TFitResult is empty - use the fit option S\n"
     ]
    }
   ],
   "source": [
    "hFinger_Edep_vs_Nphot = fdft.Filter(\"trigger2\").Histo2D((\"h3\", \"Finger Edep vs Nphot\", 100, 0.01, 250.0, 100, 0.01, 10.0),\"fingerPMTNPhotons\",\"fingerEd\")\n",
    "hAnaBar_Edep_vs_Nphot = fdft.Filter(\"trigger2\").Histo2D((\"h4\", \"AnaBar Edep vs NphotTotal\", 100, 0.01, 30.0, 100, 0.01, 500.0),\"anaBarEdTotal\",\"anaBarNPhotonsTotal\")\n",
    "hNphot0_vs_Nphot1 = fdft.Filter(\"trigger2\").Histo2D((\"h5\", \"AnaBar NphotTotal vs Finger Nphot\", 100, 0.01, 500.0, 100, 0.01, 100.0),\"anaBarNPhotonsTotal\",\"fingerPMTNPhotons\")\n",
    "\n",
    "c7 = root.TCanvas(\"c7\", \"c7\", 800, 800)\n",
    "c7.Divide(2,2, 0.01, 0.01, 0)\n",
    "\n",
    "#c7PE_MeV = root.TCanvas(\"c7PE_MeV\", \"c7PE_MeV\", 800,800)\n",
    "#c7Profile = root.TCanvas(\"c7Profile\", \"c7Profile\", 800,800)\n",
    "\n",
    "c7.cd(1)\n",
    "hFinger_Edep_vs_Nphot.Draw(\"COLZ\")\n",
    "c7.cd(2)\n",
    "hAnaBar_Edep_vs_Nphot.Draw(\"COLZ\")\n",
    "c7.cd(3)\n",
    "hNphot0_vs_Nphot1.Draw(\"COLZ\")\n",
    "c7.cd(4)\n",
    "prof = hAnaBar_Edep_vs_Nphot.ProfileX()\n",
    "prof.Fit(\"pol1\")"
   ]
  },
  {
   "cell_type": "code",
   "execution_count": 25,
   "metadata": {
    "tags": []
   },
   "outputs": [
    {
     "name": "stderr",
     "output_type": "stream",
     "text": [
      "Info in <TCanvas::Print>: pdf file plots/c7RA.pdf has been created\n"
     ]
    },
    {
     "data": {
      "image/png": "[encoded data removed]",
      "text/plain": [
       "<IPython.core.display.Image object>"
      ]
     },
     "metadata": {},
     "output_type": "display_data"
    }
   ],
   "source": [
    "c7.Draw()\n",
    "c7.Print(\"plots/c7RA.pdf\")"
   ]
  },
  {
   "cell_type": "code",
   "execution_count": 13,
   "metadata": {
    "tags": []
   },
   "outputs": [
    {
     "data": {
      "text/plain": [
       "<cppyy.gbl.TFitResultPtr object at 0x6000034e8020>"
      ]
     },
     "execution_count": 13,
     "metadata": {},
     "output_type": "execute_result"
    },
    {
     "name": "stdout",
     "output_type": "stream",
     "text": [
      "\n",
      "****************************************\n",
      "Minimizer is Linear / Migrad\n",
      "Chi2                      =       93.446\n",
      "NDf                       =           38\n",
      "p0                        =       22.018   +/-   2.39648     \n",
      "p1                        =      15.1986   +/-   0.173418    \n"
     ]
    },
    {
     "name": "stderr",
     "output_type": "stream",
     "text": [
      "Error in <TFitResultPtr>: TFitResult is empty - use the fit option S\n",
      "Error in <TFitResultPtr>: TFitResult is empty - use the fit option S\n",
      "Error in <TFitResultPtr>: TFitResult is empty - use the fit option S\n",
      "Error in <TFitResultPtr>: TFitResult is empty - use the fit option S\n",
      "Error in <TFitResultPtr>: TFitResult is empty - use the fit option S\n",
      "Error in <TFitResultPtr>: TFitResult is empty - use the fit option S\n",
      "Error in <TFitResultPtr>: TFitResult is empty - use the fit option S\n",
      "Error in <TFitResultPtr>: TFitResult is empty - use the fit option S\n",
      "Error in <TFitResultPtr>: TFitResult is empty - use the fit option S\n",
      "Error in <TFitResultPtr>: TFitResult is empty - use the fit option S\n",
      "Error in <TFitResultPtr>: TFitResult is empty - use the fit option S\n",
      "Error in <TFitResultPtr>: TFitResult is empty - use the fit option S\n",
      "Error in <TFitResultPtr>: TFitResult is empty - use the fit option S\n",
      "Error in <TFitResultPtr>: TFitResult is empty - use the fit option S\n",
      "Error in <TFitResultPtr>: TFitResult is empty - use the fit option S\n",
      "Error in <TFitResultPtr>: TFitResult is empty - use the fit option S\n",
      "Error in <TFitResultPtr>: TFitResult is empty - use the fit option S\n",
      "Error in <TFitResultPtr>: TFitResult is empty - use the fit option S\n",
      "Error in <TFitResultPtr>: TFitResult is empty - use the fit option S\n",
      "Error in <TFitResultPtr>: TFitResult is empty - use the fit option S\n",
      "Error in <TFitResultPtr>: TFitResult is empty - use the fit option S\n",
      "Error in <TFitResultPtr>: TFitResult is empty - use the fit option S\n"
     ]
    }
   ],
   "source": [
    "hFinger_Edep_vs_NphotCut = fdft.Filter(\"trigger3\").Histo2D((\"h3\", \"Finger Edep vs Nphot\", 100, 0.01, 250.0, 100, 0.01, 10.0),\"fingerPMTNPhotons\",\"fingerEd\")\n",
    "hAnaBar_Edep_vs_NphotCut = fdft.Filter(\"trigger3\").Histo2D((\"h4\", \"AnaBar Edep vs Nphot\", 100, 0.01, 30.0, 100, 0.01, 500.0),\"anaBarEdTotal\",\"anaBarNPhotonsTotal\")\n",
    "hNphot0_vs_Nphot1Cut = fdft.Filter(\"trigger3\").Histo2D((\"h5\", \"AnaBar Nphot vs Finger Nphot\", 100, 0.01, 500.0, 100, 0.01, 100.0),\"anaBarNPhotonsTotal\",\"fingerPMTNPhotons\")\n",
    "\n",
    "c8 = root.TCanvas(\"c8\", \"c8\", 800, 800)\n",
    "c8.Divide(2,2, 0.01, 0.01, 0)\n",
    "\n",
    "#c7PE_MeV = root.TCanvas(\"c7PE_MeV\", \"c7PE_MeV\", 800,800)\n",
    "#c7Profile = root.TCanvas(\"c7Profile\", \"c7Profile\", 800,800)\n",
    "\n",
    "c8.cd(1)\n",
    "hFinger_Edep_vs_NphotCut.Draw(\"COLZ\")\n",
    "c8.cd(2)\n",
    "hAnaBar_Edep_vs_NphotCut.Draw(\"COLZ\")\n",
    "c8.cd(3)\n",
    "hNphot0_vs_Nphot1Cut.Draw(\"COLZ\")\n",
    "c8.cd(4)\n",
    "prof = hAnaBar_Edep_vs_NphotCut.ProfileX()\n",
    "prof.Fit(\"pol1\")"
   ]
  },
  {
   "cell_type": "code",
   "execution_count": 14,
   "metadata": {
    "tags": []
   },
   "outputs": [
    {
     "name": "stdout",
     "output_type": "stream",
     "text": [
      "ERROR in TPDF::Open: Cannot open file:plots/c8RA.pdf\n"
     ]
    },
    {
     "data": {
      "image/png": "[encoded data removed]",
      "text/plain": [
       "<IPython.core.display.Image object>"
      ]
     },
     "metadata": {},
     "output_type": "display_data"
    }
   ],
   "source": [
    "c8.Draw()\n",
    "c8.Print(\"plots/c8RA.pdf\")"
   ]
  },
  {
   "cell_type": "code",
   "execution_count": 15,
   "metadata": {
    "tags": []
   },
   "outputs": [],
   "source": [
    "#NUMPADDLE=14\n",
    "#\n",
    "#hAnaBarEdAll = []\n",
    "#\n",
    "#for i in range(NUMPADDLE):\n",
    "#    name = (\"AnaBarEd%d\" % i)\n",
    "#    title = (\"AnaBar Energy Deposited A%d\" % i)\n",
    "#    name2 = (\"anaBarEd[%d]\" %i)\n",
    "#    hAnaBarEdAll.append(fdft.Define(name,name2).Filter(\"trigger3\").Histo1D((name, title, 100, 0.01, 10.0),name))\n",
    "#    \n",
    "#hAnaBarEdAllCut = []\n",
    "#\n",
    "#for i in range(NUMPADDLE):\n",
    "#    name = (\"AnaBarEd%dCut\" % i)\n",
    "#    title = (\"AnaBar Energy Deposited A%d\" % i)\n",
    "#    name2 = (\"anaBarEd[%d]\" %i)\n",
    "#    name3 = (\"trigger3 && anaBarPMTNPhotons[%d]>100.0\" % i)\n",
    "#    hAnaBarEdAllCut.append(fdft.Define(name,name2).Filter(name3).Histo1D((name, title, 100, 0.01, 10.0),name))\n",
    "#\n",
    "#cEd = root.TCanvas(\"cEd\", \"cEd\", 800,800)\n",
    "#cEd.Divide(4,4)\n",
    "#\n",
    "#means = []\n",
    "#meanErr = []\n",
    "#\n",
    "#start = 5.5\n",
    "#gf = root.TF1(\"gf\", \"gaus\", start, 10.0)\n",
    "#\n",
    "#for i in range(NUMPADDLE):\n",
    "#    \n",
    "#    print (\"Paddle = \",i+1)\n",
    "#\n",
    "#    cEd.cd(i+1)\n",
    "#    \n",
    "#    hAnaBarEdAll[i].Draw()\n",
    "#    hAnaBarEdAllCut[i].SetLineColor(2)\n",
    "#    hAnaBarEdAllCut[i].Draw(\"SAME\")\n",
    "#    \n",
    "#cEd.Draw()\n",
    "#cEd.Print(\"plots/cEdRA.pdf\")"
   ]
  },
  {
   "cell_type": "code",
   "execution_count": 16,
   "metadata": {
    "tags": []
   },
   "outputs": [],
   "source": [
    "#hAnaBarPMTNphotArray = []\n",
    "#\n",
    "#for i in range(NUMPADDLE):  \n",
    "#    name = (\"AnaBarPMTNphotA%d\" % i)\n",
    "#    title = (\"AnaBar_PMT_Number_of_Photons_A%d\" % i)\n",
    "#    name2 = (\"anaBarPMTNPhotons[%d]\" % i)\n",
    "#    hAnaBarPMTNphotArray.append(fdft.Define(name,name2).Filter(\"trigger\").Histo1D((name, title, 200, -20, 180.0),name))\n",
    "#    \n",
    "#hAnaBarPMTNphotCut = []\n",
    "#    \n",
    "#for i in range(NUMPADDLE):  \n",
    "#    name = (\"AnaBarPMTNphotA%dCut\" % i)\n",
    "#    title = (\"AnaBar_PMT_Number_of_Photons_A%d_Cut\" % i)\n",
    "#    name2 = (\"anaBarPMTNPhotons[%d]\" % i)\n",
    "#    hAnaBarPMTNphotCut.append(fdft.Define(name,name2).Filter(\"trigger3\").Histo1D((name, title, 200, -20, 180.0),name))\n",
    "#    \n",
    "#hAnaBarPMTNoiseCutNphot = []\n",
    "#\n",
    "#for i in range(NUMPADDLE):\n",
    "#    name = (\"AnaBarPMTNoiseCutNphotA%d\" % i)\n",
    "#    title = (\"AnaBar PMT Number of Photons A%d\" % i)\n",
    "#    name2 = (\"anaBarPMTNPhotons[%d]\" % i)\n",
    "#    name3 = (\"trigger3 && anaBarEd[%d]>4.0\" % i)\n",
    "#    hAnaBarPMTNoiseCutNphot.append(fdft.Define(name,name2).Filter(name3).Histo1D((name, title, 200, -20, 180.0),name))\n",
    "#\n",
    "#c9 = root.TCanvas(\"c9\", \"c9\", 800,800)\n",
    "#\n",
    "#print(\"Fitting ...\\n\")\n",
    "#fr = [float, float]\n",
    "#fp, fpe = [float, float, float, float], [float, float, float, float]\n",
    "#pllo = [0.05, 0.5, 1.0, 0.04]\n",
    "#plhi = [10.0, 50.0, 10000.0, 5.0]\n",
    "#sv = [1.8, 5.0, 1400.0, 3.0]\n",
    "#chisqr = float\n",
    "#ndf = int\n",
    "#SNRPeak, SNRFWHM = float, float\n",
    "#\n",
    "#\n",
    "#for i in range(NUMPADDLE):\n",
    "#        c9.cd()\n",
    "#        xl = 0.25*(i%4)\n",
    "#        xh = 0.25*(i%4)+0.25\n",
    "#        yl = 0.75 - 0.25*int(i/4)\n",
    "#        yh = 0.75 - 0.25*int(i/4) + 0.25\n",
    "#        #print (i,xl,yl,xh,yh)\n",
    "#        pad = root.TPad(\"pad\",\"pad\",xl,yl,xh,yh)\n",
    "#        pad.SetLogy(True)\n",
    "#        pad.Draw()\n",
    "#        pad.cd()\n",
    "#        hAnaBarPMTNphotArray[i].Draw()\n",
    "#        hAnaBarPMTNoiseCutNphot[i].SetLineColor(2)\n",
    "#        hAnaBarPMTNoiseCutNphot[i].Draw(\"SAME\")\n",
    "#        #hAnaBarPMTNoiseCutNphot[i].Fit(\"gaus\")"
   ]
  },
  {
   "cell_type": "code",
   "execution_count": 17,
   "metadata": {
    "tags": []
   },
   "outputs": [],
   "source": [
    "#c9.Draw()\n",
    "#c9.Print(\"plots/c9RA.pdf\")"
   ]
  },
  {
   "cell_type": "code",
   "execution_count": 18,
   "metadata": {
    "tags": []
   },
   "outputs": [],
   "source": [
    "#hFingerPMTKE = fdft.Histo1D(\"fingerPMTKE\")\n",
    "#hAnaBarPMTKE = fdft.Histo1D(\"anaBarPMTKE\")\n",
    "\n",
    "#c10 = root.TCanvas(\"c10\", \"c10\", 800,800)\n",
    "#c10.Divide(1,2, 0.01, 0.01, 0)\n",
    "\n",
    "#c10.cd(1)\n",
    "#hFingerPMTKE.Draw()\n",
    "#c10.cd(2)\n",
    "#hAnaBarPMTKE.Draw()\n",
    "\n",
    "#c10.Draw()\n",
    "#c10.Print(\"plots/c10RA.pdf\")"
   ]
  },
  {
   "cell_type": "code",
   "execution_count": 19,
   "metadata": {
    "tags": []
   },
   "outputs": [
    {
     "name": "stdout",
     "output_type": "stream",
     "text": [
      "ERROR in TPDF::Open: Cannot open file:plots/c11RA.pdf\n"
     ]
    },
    {
     "data": {
      "image/png": "[encoded data removed]",
      "text/plain": [
       "<IPython.core.display.Image object>"
      ]
     },
     "metadata": {},
     "output_type": "display_data"
    }
   ],
   "source": [
    "hAnaBarMult = fdft.Histo1D(\"imult\")\n",
    "\n",
    "c11 = root.TCanvas(\"c11\", \"c11\", 800,800)\n",
    "c11.Divide(1,1, 0.01, 0.01, 0)\n",
    "\n",
    "c11.cd(1)\n",
    "hAnaBarMult.Draw()\n",
    "\n",
    "c11.Draw()\n",
    "c11.Print(\"plots/c11RA.pdf\")"
   ]
  },
  {
   "cell_type": "code",
   "execution_count": 20,
   "metadata": {
    "tags": []
   },
   "outputs": [
    {
     "name": "stdout",
     "output_type": "stream",
     "text": [
      "ERROR in TPDF::Open: Cannot open file:plots/c12RA.pdf\n"
     ]
    },
    {
     "data": {
      "image/png": "[encoded data removed]",
      "text/plain": [
       "<IPython.core.display.Image object>"
      ]
     },
     "metadata": {},
     "output_type": "display_data"
    }
   ],
   "source": [
    "hPrimPx = fdft.Histo1D(\"fPx\")\n",
    "hPrimPy = fdft.Histo1D(\"fPy\")\n",
    "hPrimPz = fdft.Histo1D(\"fPz\")\n",
    "\n",
    "c12 = root.TCanvas(\"c12\", \"c12\", 800,800)\n",
    "c12.Divide(2,2, 0.01, 0.01, 0)\n",
    "\n",
    "c12.cd(1)\n",
    "hPrimPx.Draw()\n",
    "c12.cd(2)\n",
    "hPrimPy.Draw()\n",
    "c12.cd(3)\n",
    "hPrimPz.Draw()\n",
    "\n",
    "c12.Draw()\n",
    "c12.Print(\"plots/c12RA.pdf\")"
   ]
  },
  {
   "cell_type": "code",
   "execution_count": 21,
   "metadata": {
    "tags": []
   },
   "outputs": [
    {
     "name": "stdout",
     "output_type": "stream",
     "text": [
      "Elapsed time: 16.0919 seconds\n"
     ]
    }
   ],
   "source": [
    "t.stop()"
   ]
  },
  {
   "cell_type": "code",
   "execution_count": null,
   "metadata": {},
   "outputs": [],
   "source": []
  },
  {
   "cell_type": "code",
   "execution_count": null,
   "metadata": {},
   "outputs": [],
   "source": []
  },
  {
   "cell_type": "code",
   "execution_count": null,
   "metadata": {},
   "outputs": [],
   "source": []
  },
  {
   "cell_type": "code",
   "execution_count": null,
   "metadata": {},
   "outputs": [],
   "source": []
  },
  {
   "cell_type": "code",
   "execution_count": null,
   "metadata": {},
   "outputs": [],
   "source": []
  }
 ],
 "metadata": {
  "kernelspec": {
   "display_name": "Python 3 (ipykernel)",
   "language": "python",
   "name": "python3"
  },
  "language_info": {
   "codemirror_mode": {
    "name": "ipython",
    "version": 3
   },
   "file_extension": ".py",
   "mimetype": "text/x-python",
   "name": "python",
   "nbconvert_exporter": "python",
   "pygments_lexer": "ipython3",
   "version": "3.6.8"
  }
 },
 "nbformat": 4,
 "nbformat_minor": 4
}
