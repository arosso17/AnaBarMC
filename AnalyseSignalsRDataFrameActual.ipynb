{
 "cells": [
  {
   "cell_type": "code",
   "execution_count": 1,
   "metadata": {},
   "outputs": [
    {
     "name": "stdout",
     "output_type": "stream",
     "text": [
      "Welcome to JupyROOT 6.24/06\n"
     ]
    }
   ],
   "source": [
    "import ROOT as root\n",
    "import numpy as np\n",
    "import random\n",
    "from timer import Timer\n",
    "\n",
    "t = Timer()\n",
    "t.start()"
   ]
  },
  {
   "cell_type": "code",
   "execution_count": 2,
   "metadata": {},
   "outputs": [],
   "source": [
    "Analyse_Secondaries = 1\n",
    "Theta_min_cut = 2.524\n",
    "ThetaVerticalCut = 3.02\n",
    "\n",
    "MaxHits = 50000\n",
    "MaxPMTNo = 20\n",
    "MaxPMTHits = 5000\n",
    "Finger_Edep_Max = 10.0\n",
    "AnaBar_Edep_Max = 10.0\n",
    "pedastel_sigma = 2.9\n",
    "Detector_Offset = 0\n",
    "\n",
    "Finger_NPhotons_Max = 250\n",
    "AnaBar_NPhotons_Max = 200\n",
    "\n",
    "NUMPADDLE = 14\n",
    "\n",
    "NMaxPMT = 14\n",
    "\n",
    "Detector_pdg = np.array([0 for i in range(MaxHits)],dtype=int)\n",
    "Detector_id = np.array([0 for i in range(MaxHits)],dtype=int)\n",
    "\n",
    "Detector_x = np.array([0 for i in range(MaxHits)],dtype=float)\n",
    "Detector_y = np.array([0 for i in range(MaxHits)],dtype=float)\n",
    "Detector_z = np.array([0 for i in range(MaxHits)],dtype=float)\n",
    "Detector_t = np.array([0 for i in range(MaxHits)],dtype=float)\n",
    "Detector_Ed = np.array([0 for i in range(MaxHits)],dtype=float)\n",
    "\n",
    "PMT_Nphotons = np.array([0 for i in range(MaxPMTNo)],dtype=int)\n",
    "PMT_Nphotons_Noise = np.array([0 for i in range(MaxPMTNo)],dtype=int)\n",
    "\n",
    "PMT_KineticEnergy = np.array([[0 for i in range(MaxPMTNo)] for j in range(MaxPMTHits)],dtype=float)\n"
   ]
  },
  {
   "cell_type": "code",
   "execution_count": 3,
   "metadata": {},
   "outputs": [],
   "source": [
    "fileName = \"data/AnaBarMC_77777.root\"\n",
    "treeName = \"T\"\n",
    "\n",
    "f = root.TFile(fileName)\n",
    "myTree = f.Get(treeName)\n",
    "\n",
    "d = root.RDataFrame(treeName,fileName)"
   ]
  },
  {
   "cell_type": "code",
   "execution_count": 4,
   "metadata": {},
   "outputs": [
    {
     "data": {
      "text/plain": [
       "True"
      ]
     },
     "execution_count": 4,
     "metadata": {},
     "output_type": "execute_result"
    }
   ],
   "source": [
    "triggerCode = '''\n",
    "bool getTrigger(int Detector_Nhits, int* Detector_id) {\n",
    "    int Detector_Offset = 0;\n",
    "    bool fhit = false;\n",
    "    bool ahit = false;\n",
    "    bool trigger = false;\n",
    "    for (int j=0; j<Detector_Nhits; j++) {\n",
    "        if (Detector_id[j] == Detector_Offset && !fhit) {\n",
    "            fhit = true;\n",
    "        }\n",
    "        for (int ibar=1; ibar<15; ibar++){\n",
    "            if (Detector_id[j+Detector_Offset] == ibar+Detector_Offset) {\n",
    "                ahit = true;\n",
    "            }\n",
    "        }\n",
    "        if (fhit && ahit) {\n",
    "            trigger = true;\n",
    "        }\n",
    "    }\n",
    "    return trigger;\n",
    "}\n",
    "\n",
    "float getMass(int Prim_pdg) {\n",
    "    float fMass;\n",
    "    if (Prim_pdg == 11) {\n",
    "        fMass = 0.511;\n",
    "    } else {\n",
    "        if (Prim_pdg == 13) {\n",
    "            fMass = 105.7;\n",
    "        } else {\n",
    "            if (Prim_pdg == 2212) {\n",
    "                fMass = 938.28;\n",
    "            } else {\n",
    "                fMass = 939.65;\n",
    "            }\n",
    "        }\n",
    "    }\n",
    "    return fMass;\n",
    "}\n",
    "\n",
    "float getMomentum(float Prim_E, float fMass) {\n",
    "    return sqrt(Prim_E*Prim_E - fMass*fMass);\n",
    "}\n",
    "\n",
    "float getPx(float fMomentum, float Prim_Th, float Prim_Ph) {\n",
    "    return fMomentum*TMath::Sin(Prim_Th)*TMath::Cos(Prim_Ph);\n",
    "}\n",
    "\n",
    "float getPy(float fMomentum, float Prim_Th, float Prim_Ph) {\n",
    "    return fMomentum*TMath::Sin(Prim_Th)*TMath::Sin(Prim_Ph);\n",
    "}\n",
    "\n",
    "float getPz(float fMomentum, float Prim_Th, float Prim_Ph) {\n",
    "    return fMomentum*TMath::Cos(Prim_Th);\n",
    "}\n",
    "\n",
    "float getNewTheta(float fMomentum, float fPy) {\n",
    "    return TMath::ACos(fPy/fMomentum);\n",
    "}\n",
    "\n",
    "float getNewPhi(float fMomentum, float fPx, float fPz) {\n",
    "    float fNewPhi;\n",
    "    if (fPx < 0.0) {\n",
    "        fNewPhi = TMath::ATan(fPz/fPx) + TMath::Pi();\n",
    "    } else {\n",
    "        if (fPx > 0.0 && fPz < 0.0) {\n",
    "            fNewPhi = TMath::ATan(fPz/fPx) + TMath::TwoPi();\n",
    "        } else {\n",
    "            fNewPhi = TMath::ATan(fPz/fPx);\n",
    "        }\n",
    "    }\n",
    "    return fNewPhi;\n",
    "}\n",
    "\n",
    "std::vector<float> getFingerXVec(bool trigger, int Detector_Nhits, int* Detector_id, int* Detector_pdg, float* Detector_x, int Prim_pdg) {\n",
    "    std::vector<float> v;\n",
    "    int Detector_Offset = 0;\n",
    "    for (int j=0; j < Detector_Nhits; j++) {\n",
    "        if (trigger) {\n",
    "            if (Detector_id[j] == Detector_Offset && Detector_pdg[j] == Prim_pdg) {\n",
    "                v.push_back(Detector_x[j]);\n",
    "            }\n",
    "        }\n",
    "    }\n",
    "    return v;\n",
    "}\n",
    "std::vector<float> getFingerYVec(bool trigger, int Detector_Nhits, int* Detector_id, int* Detector_pdg, float* Detector_y, int Prim_pdg) {\n",
    "    std::vector<float> v;\n",
    "    int Detector_Offset = 0;\n",
    "    for (int j=0; j < Detector_Nhits; j++) {\n",
    "        if (trigger) {\n",
    "            if (Detector_id[j] == Detector_Offset && Detector_pdg[j] == Prim_pdg) {\n",
    "                v.push_back(Detector_y[j]);\n",
    "            }\n",
    "        }\n",
    "    }\n",
    "    return v;\n",
    "}\n",
    "std::vector<float> getFingerZVec(bool trigger, int Detector_Nhits, int* Detector_id, int* Detector_pdg, float* Detector_z, int Prim_pdg) {\n",
    "    std::vector<float> v;\n",
    "    int Detector_Offset = 0;\n",
    "    for (int j=0; j < Detector_Nhits; j++) {\n",
    "        if (trigger) {\n",
    "            if (Detector_id[j] == Detector_Offset && Detector_pdg[j] == Prim_pdg) {\n",
    "                v.push_back(Detector_z[j]);\n",
    "            }\n",
    "        }\n",
    "    }\n",
    "    return v;\n",
    "}\n",
    "std::vector<float> getFingerTVec(bool trigger, int Detector_Nhits, int* Detector_id, int* Detector_pdg, float* Detector_t, int Prim_pdg) {\n",
    "    std::vector<float> v;\n",
    "    int Detector_Offset = 0;\n",
    "    for (int j=0; j < Detector_Nhits; j++) {\n",
    "        if (trigger) {\n",
    "            if (Detector_id[j] == Detector_Offset && Detector_pdg[j] == Prim_pdg) {\n",
    "                v.push_back(Detector_t[j]);\n",
    "            }\n",
    "        }\n",
    "    }\n",
    "    return v;\n",
    "}\n",
    "\n",
    "std::vector<float> getAnaBarXVec(bool trigger, int Detector_Nhits, int* Detector_id, int* Detector_pdg, float* Detector_x, int Prim_pdg) {\n",
    "    std::vector<float> v;\n",
    "    int Detector_Offset = 0;\n",
    "    for (int j=0; j < Detector_Nhits; j++) {\n",
    "        if (trigger) {\n",
    "            if (Detector_id[j] == 1 + Detector_Offset && Detector_pdg[j] == Prim_pdg) {\n",
    "                v.push_back(Detector_x[j]);\n",
    "            }\n",
    "        }\n",
    "    }\n",
    "    return v;\n",
    "}\n",
    "std::vector<float> getAnaBarYVec(bool trigger, int Detector_Nhits, int* Detector_id, int* Detector_pdg, float* Detector_y, int Prim_pdg) {\n",
    "    std::vector<float> v;\n",
    "    int Detector_Offset = 0;\n",
    "    for (int j=0; j < Detector_Nhits; j++) {\n",
    "        if (trigger) {\n",
    "            if (Detector_id[j] == 1 + Detector_Offset && Detector_pdg[j] == Prim_pdg) {\n",
    "                v.push_back(Detector_y[j]);\n",
    "            }\n",
    "        }\n",
    "    }\n",
    "    return v;\n",
    "}\n",
    "std::vector<float> getAnaBarZVec(bool trigger, int Detector_Nhits, int* Detector_id, int* Detector_pdg, float* Detector_z, int Prim_pdg) {\n",
    "    std::vector<float> v;\n",
    "    int Detector_Offset = 0;\n",
    "    for (int j=0; j < Detector_Nhits; j++) {\n",
    "        if (trigger) {\n",
    "            if (Detector_id[j] == 1 + Detector_Offset && Detector_pdg[j] == Prim_pdg) {\n",
    "                v.push_back(Detector_z[j]);\n",
    "            }\n",
    "        }\n",
    "    }\n",
    "    return v;\n",
    "}\n",
    "std::vector<float> getAnaBarTVec(bool trigger, int Detector_Nhits, int* Detector_id, int* Detector_pdg, float* Detector_t, int Prim_pdg) {\n",
    "    std::vector<float> v;\n",
    "    int Detector_Offset = 0;\n",
    "    for (int j=0; j < Detector_Nhits; j++) {\n",
    "        if (trigger) {\n",
    "            if (Detector_id[j] == 1 + Detector_Offset && Detector_pdg[j] == Prim_pdg) {\n",
    "                v.push_back(Detector_t[j]);\n",
    "            }\n",
    "        }\n",
    "    }\n",
    "    return v;\n",
    "}\n",
    "'''\n",
    "\n",
    "root.gInterpreter.Declare(triggerCode)\n",
    "\n"
   ]
  },
  {
   "cell_type": "code",
   "execution_count": 5,
   "metadata": {},
   "outputs": [
    {
     "name": "stdout",
     "output_type": "stream",
     "text": [
      "4959 entries passed trigger\n"
     ]
    }
   ],
   "source": [
    "fdf = d.Define(\"trigger\", \"getTrigger(Detector_Nhits, &Detector_id[0])\") \\\n",
    "       .Define(\"fMass\", \"getMass(Prim_pdg)\") \\\n",
    "       .Define(\"fMomentum\",\"getMomentum(Prim_E,fMass)\") \\\n",
    "       .Define(\"fPx\", \"getPx(fMomentum,Prim_Th,Prim_Ph)\") \\\n",
    "       .Define(\"fPy\", \"getPy(fMomentum,Prim_Th,Prim_Ph)\") \\\n",
    "       .Define(\"fPz\", \"getPz(fMomentum,Prim_Th,Prim_Ph)\") \\\n",
    "       .Define(\"fNewTheta\", \"getNewTheta(fMomentum,fPy)\") \\\n",
    "       .Define(\"fNewPhi\", \"getNewPhi(fMomentum,fPx,fPz)\") \\\n",
    "       .Define(\"fingerXVec\",\"getFingerXVec(trigger,Detector_Nhits,&Detector_id[0],&Detector_pdg[0],&Detector_x[0],Prim_pdg)\") \\\n",
    "       .Define(\"fingerYVec\",\"getFingerYVec(trigger,Detector_Nhits,&Detector_id[0],&Detector_pdg[0],&Detector_y[0],Prim_pdg)\") \\\n",
    "       .Define(\"fingerZVec\",\"getFingerZVec(trigger,Detector_Nhits,&Detector_id[0],&Detector_pdg[0],&Detector_z[0],Prim_pdg)\") \\\n",
    "       .Define(\"fingerTVec\",\"getFingerTVec(trigger,Detector_Nhits,&Detector_id[0],&Detector_pdg[0],&Detector_t[0],Prim_pdg)\") \\\n",
    "       .Define(\"anaBarXVec\",\"getAnaBarXVec(trigger,Detector_Nhits,&Detector_id[0],&Detector_pdg[0],&Detector_x[0],Prim_pdg)\") \\\n",
    "       .Define(\"anaBarYVec\",\"getAnaBarYVec(trigger,Detector_Nhits,&Detector_id[0],&Detector_pdg[0],&Detector_y[0],Prim_pdg)\") \\\n",
    "       .Define(\"anaBarZVec\",\"getAnaBarZVec(trigger,Detector_Nhits,&Detector_id[0],&Detector_pdg[0],&Detector_z[0],Prim_pdg)\") \\\n",
    "       .Define(\"anaBarTVec\",\"getAnaBarTVec(trigger,Detector_Nhits,&Detector_id[0],&Detector_pdg[0],&Detector_t[0],Prim_pdg)\")\n",
    "\n",
    "triggers = fdf.Filter(\"trigger==true\").Count()\n",
    "print('{} entries passed trigger'.format(triggers.GetValue()))\n",
    "\n",
    "fdft = fdf.Filter(\"trigger==true\")"
   ]
  },
  {
   "cell_type": "code",
   "execution_count": 6,
   "metadata": {},
   "outputs": [
    {
     "name": "stderr",
     "output_type": "stream",
     "text": [
      "Info in <TCanvas::Print>: pdf file plots/c1RA.pdf has been created\n"
     ]
    },
    {
     "data": {
      "image/png": "[encoded data removed]",
      "text/plain": [
       "<IPython.core.display.Image object>"
      ]
     },
     "metadata": {},
     "output_type": "display_data"
    }
   ],
   "source": [
    "# Canvas 1\n",
    "\n",
    "hFingerX = fdft.Histo1D('fingerXVec')\n",
    "hFingerY = fdft.Histo1D('fingerYVec')\n",
    "hFingerZ = fdft.Histo1D('fingerZVec')\n",
    "hFingerT = fdft.Histo1D('fingerTVec')\n",
    "\n",
    "c1 = root.TCanvas(\"c1\",\"c1\",800,800)\n",
    "c1.Divide(2,2,0.01,0.01,0)\n",
    "\n",
    "c1.cd(1)\n",
    "hFingerX.Draw()\n",
    "c1.cd(2)\n",
    "hFingerY.Draw()\n",
    "c1.cd(3)\n",
    "hFingerZ.Draw()\n",
    "c1.cd(4)\n",
    "hFingerT.Draw()\n",
    "\n",
    "c1.Draw()\n",
    "c1.Print(\"plots/c1RA.pdf\");"
   ]
  },
  {
   "cell_type": "code",
   "execution_count": 7,
   "metadata": {},
   "outputs": [
    {
     "name": "stderr",
     "output_type": "stream",
     "text": [
      "Info in <TCanvas::Print>: pdf file plots/c2RA.pdf has been created\n"
     ]
    },
    {
     "data": {
      "image/png": "[encoded data removed]",
      "text/plain": [
       "<IPython.core.display.Image object>"
      ]
     },
     "metadata": {},
     "output_type": "display_data"
    }
   ],
   "source": [
    "# Canvas 2\n",
    "\n",
    "hPrimE = fdft.Histo1D('Prim_E')\n",
    "hPrimTh = fdft.Histo1D('fNewTheta')\n",
    "hPrimPh = fdft.Histo1D('fNewPhi')\n",
    "hPrimPdg = fdft.Histo1D('Prim_pdg')\n",
    "\n",
    "c2 = root.TCanvas(\"c2\",\"c2\",800,800)\n",
    "c2.Divide(2,2,0.01,0.01,0)\n",
    "\n",
    "c2.cd(1)\n",
    "hPrimE.Draw()\n",
    "c2.cd(2)\n",
    "hPrimTh.Draw()\n",
    "c2.cd(3)\n",
    "hPrimPh.Draw()\n",
    "c2.cd(4)\n",
    "hPrimPdg.Draw()\n",
    "\n",
    "c2.Draw()\n",
    "c2.Print(\"plots/c2RA.pdf\")\n"
   ]
  },
  {
   "cell_type": "code",
   "execution_count": 8,
   "metadata": {},
   "outputs": [
    {
     "name": "stdout",
     "output_type": "stream",
     "text": [
      "Elapsed time: 4.8833 seconds\n"
     ]
    }
   ],
   "source": [
    "# Canvas 5\n",
    "\n",
    "hAnaBarX = fdft.Histo1D('fingerXVec')\n",
    "hAnaBarY = fdft.Histo1D('fingerYVec')\n",
    "hAnaBarZ = fdft.Histo1D('fingerZVec')\n",
    "hAnaBarT = fdft.Histo1D('fingerTVec')\n",
    "\n",
    "c5 = root.TCanvas(\"c5\",\"c5\",800,800)\n",
    "c5.Divide(2,2,0.01,0.01,0)\n",
    "\n",
    "c5.cd(1)\n",
    "hAnaBarX.Draw()\n",
    "c5.cd(2)\n",
    "hAnaBarY.Draw()\n",
    "c5.cd(3)\n",
    "hAnaBarZ.Draw()\n",
    "c5.cd(4)\n",
    "hAnaBarT.Draw()\n",
    "\n",
    "c5.Draw()\n",
    "c5.Print(\"plots/c5RA.pdf\");"
   ]
  }
 ],
 "metadata": {
  "kernelspec": {
   "display_name": "Python 3",
   "language": "python",
   "name": "python3"
  },
  "language_info": {
   "codemirror_mode": {
    "name": "ipython",
    "version": 3
   },
   "file_extension": ".py",
   "mimetype": "text/x-python",
   "name": "python",
   "nbconvert_exporter": "python",
   "pygments_lexer": "ipython3",
   "version": "3.6.8"
  }
 },
 "nbformat": 4,
 "nbformat_minor": 4
}
